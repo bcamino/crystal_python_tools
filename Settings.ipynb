{
 "cells": [
  {
   "cell_type": "markdown",
   "id": "involved-girlfriend",
   "metadata": {},
   "source": [
    "# Setting notebook"
   ]
  },
  {
   "cell_type": "markdown",
   "id": "municipal-graham",
   "metadata": {},
   "source": [
    "Please run the whole notebook in order to set the variables used in the building blocks and workflows. This is not a mandatory step and you will only need it if you intend to run calculations (or visualise structure through VESTA) on the machine where you are running the notebook.\n",
    "\n",
    "The crystal_python_tools can still be used to generate inputs and analyse outputs even if these variables are not set."
   ]
  },
  {
   "cell_type": "markdown",
   "id": "individual-explanation",
   "metadata": {},
   "source": [
    "### Set the variables"
   ]
  },
  {
   "cell_type": "code",
   "execution_count": 1,
   "id": "bizarre-smooth",
   "metadata": {},
   "outputs": [],
   "source": [
    "runcry_path = # For example: '/Users/brunocamino/crystal/runcry17'\n",
    "runprop_path = # For example: '/Users/brunocamino/crystal/runprop17'\n",
    "vesta_path = # For example: '/Applications/VESTA/VESTA.app/Contents/MacOS/VESTA'"
   ]
  },
  {
   "cell_type": "code",
   "execution_count": 2,
   "id": "intimate-wound",
   "metadata": {},
   "outputs": [],
   "source": [
    "import re\n",
    "\n",
    "#Read the current settings file\n",
    "file = open('functions/settings.py', 'r')\n",
    "lines = file.readlines()\n",
    "file.close()\n",
    "\n",
    "for i,line in enumerate(lines):\n",
    "    if re.match(r'    runcry_path',line) != None:\n",
    "        if len(runcry_path) > 0:\n",
    "            lines[i] = '    runcry_path = \\'%s\\'\\n' % (runcry_path)\n",
    "    if re.match(r'    runprop_path',line) != None:\n",
    "        if len(runprop_path) > 0:\n",
    "            lines[i] = '    runprop_path = \\'%s\\'\\n' % (runprop_path)\n",
    "    if re.match(r'    vesta_path',line) != None:\n",
    "        if len(vesta_path) > 0:\n",
    "            lines[i] = '    vesta_path = \\'%s\\'\\n' % (vesta_path)\n",
    "\n",
    "#Write the newly defined variables to the settings file\n",
    "file = open('functions/settings.py', 'w')\n",
    "for line in lines:\n",
    "    file.writelines(line)\n",
    "file.close()"
   ]
  }
 ],
 "metadata": {
  "kernelspec": {
   "display_name": "Python 3",
   "language": "python",
   "name": "python3"
  },
  "language_info": {
   "codemirror_mode": {
    "name": "ipython",
    "version": 3
   },
   "file_extension": ".py",
   "mimetype": "text/x-python",
   "name": "python",
   "nbconvert_exporter": "python",
   "pygments_lexer": "ipython3",
   "version": "3.9.2"
  }
 },
 "nbformat": 4,
 "nbformat_minor": 5
}
