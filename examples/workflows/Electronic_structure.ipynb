{
 "cells": [
  {
   "cell_type": "markdown",
   "id": "negative-posting",
   "metadata": {},
   "source": [
    "# Workflow to calculate the electronic properties - Example"
   ]
  },
  {
   "cell_type": "markdown",
   "id": "brutal-agency",
   "metadata": {},
   "source": [
    "This notebook provides the workflow for:\n",
    "\n",
    "- geometry optimisation\n",
    "- calculation of the DOS and band structures\n",
    "- display of the electronic structure\n",
    "- comparison of two structures (to be used if two systems, such as a pure material and a doped one are being studied in order to see the effect of the structural modification on the electronic structure)\n"
   ]
  },
  {
   "cell_type": "code",
   "execution_count": 1,
   "id": "seasonal-flooring",
   "metadata": {},
   "outputs": [],
   "source": [
    "#Import system \n",
    "import sys\n",
    "sys.path.insert(1, '../../functions/') #The path to the function folder is different from the notebooks in the examle folder\n",
    "sys.path.insert(1, '../')\n",
    "import nbimporter\n",
    "from os.path import join\n",
    "\n",
    "#Import functions\n",
    "from crystal_io import read_input\n",
    "from settings import runcry\n",
    "from settings import runprop\n",
    "from settings import vesta\n",
    "from visualisation_tools import gui2cif\n",
    "from plotting import plot_bs\n",
    "from plotting import plot_doss\n",
    "from plotting import plot_es\n",
    "from plotting import compare_bs\n",
    "from plotting import compare_es\n",
    "\n",
    "import re\n",
    "import numpy as np\n",
    "import pandas as pd\n",
    "#import time\n",
    "from ase.io.crystal import read_crystal\n",
    "from ase.visualize import view\n",
    "from ase.visualize.plot import plot_atoms\n",
    "import matplotlib.pyplot as plt\n",
    "from IPython.display import Javascript"
   ]
  },
  {
   "cell_type": "markdown",
   "id": "substantial-arbitration",
   "metadata": {},
   "source": [
    "### Setting the variables"
   ]
  },
  {
   "cell_type": "code",
   "execution_count": 2,
   "id": "contrary-things",
   "metadata": {},
   "outputs": [],
   "source": [
    "#Variables used in the whole notebook\n",
    "directory = '../data/es' # directory where the original input is saved\n",
    "input_name = 'mgo' # name of the original input\n",
    "file_path = join(directory,input_name)\n",
    "\n",
    "#Band structure calculation\n",
    "band_input_name = 'mgo_BAND'\n",
    "band_file_path = join(directory,band_input_name)\n",
    "bands_file_path = join(directory,band_input_name+'_dat.BAND')\n",
    "\n",
    "#k point path\n",
    "k_labels = ['G','X','L','G','W']\n",
    "\n",
    "#Bands energy range\n",
    "energy_range = [-5,+20]\n",
    "\n",
    "#Band structure title\n",
    "title_bs = 'MgO band structure' \n",
    "\n",
    "#DOS calculation\n",
    "dos_input_name = 'mgo_DOSS'\n",
    "dos_file_path = join(directory,dos_input_name)\n",
    "doss_file_path = join(directory,dos_input_name+'_dat.DOSS')\n",
    "\n",
    "#DOS labels\n",
    "dos_labels = ['Mg','O','Total DOS']\n",
    "\n",
    "#DOS plot title\n",
    "title_dos = 'MgO DOS' \n",
    "\n",
    "#Electronic structure title\n",
    "title_es = 'MgO electronic structure' \n",
    "\n",
    "#Compare electronic structure?\n",
    "compare = True\n",
    "\n",
    "#Please DO NOT modify the line below\n",
    "if compare == True:\n",
    "    Javascript(\"Jupyter.notebook.execute_cells([5])\")"
   ]
  },
  {
   "cell_type": "code",
   "execution_count": 3,
   "id": "productive-clark",
   "metadata": {},
   "outputs": [],
   "source": [
    "#Variables used when comparing two calculations (no need to fill this cell otherwise)\n",
    "\n",
    "directory2 = '../data/es' # directory where the original input is saved\n",
    "input_name2 = 'cao' # name of the original input\n",
    "file_path2 = join(directory2,input_name2)\n",
    "\n",
    "#Additional band structure\n",
    "band_input_name2 = 'cao_BAND'\n",
    "band_file_path2 = join(directory2,band_input_name2)\n",
    "bands_file_path2 = join(directory2,band_input_name2+'_dat.BAND')\n",
    "\n",
    "#Additional DOS\n",
    "dos_input_name2 = 'cao_DOSS'\n",
    "dos_file_path2 = join(directory2,dos_input_name2)\n",
    "doss_file_path2 = join(directory2,dos_input_name2+'_dat.DOSS')\n",
    "dos_labels2 = ['Ca','O','Total DOS']"
   ]
  },
  {
   "cell_type": "markdown",
   "id": "technological-kingston",
   "metadata": {},
   "source": [
    "## Optimise the structure"
   ]
  },
  {
   "cell_type": "code",
   "execution_count": 4,
   "id": "meaningful-kelly",
   "metadata": {},
   "outputs": [
    {
     "data": {
      "text/plain": [
       "'../data/es/mgo.out calculation successfully completed'"
      ]
     },
     "execution_count": 4,
     "metadata": {},
     "output_type": "execute_result"
    }
   ],
   "source": [
    "runcry(file_path)"
   ]
  },
  {
   "cell_type": "code",
   "execution_count": 5,
   "id": "architectural-score",
   "metadata": {},
   "outputs": [],
   "source": [
    "if compare == True:\n",
    "    runcry(file_path2)"
   ]
  },
  {
   "cell_type": "markdown",
   "id": "hundred-kernel",
   "metadata": {},
   "source": [
    "## Band structure calculation"
   ]
  },
  {
   "cell_type": "code",
   "execution_count": 6,
   "id": "established-action",
   "metadata": {},
   "outputs": [],
   "source": [
    "runprop(band_file_path,file_path)"
   ]
  },
  {
   "cell_type": "code",
   "execution_count": 7,
   "id": "floral-accessory",
   "metadata": {},
   "outputs": [],
   "source": [
    "if compare == True:\n",
    "    runprop(band_file_path2,file_path2)"
   ]
  },
  {
   "cell_type": "markdown",
   "id": "minus-midnight",
   "metadata": {},
   "source": [
    "## Density of States (DOS) calculation"
   ]
  },
  {
   "cell_type": "code",
   "execution_count": 8,
   "id": "pretty-print",
   "metadata": {},
   "outputs": [],
   "source": [
    "runprop(dos_file_path,file_path)"
   ]
  },
  {
   "cell_type": "code",
   "execution_count": 9,
   "id": "prescribed-mauritius",
   "metadata": {},
   "outputs": [],
   "source": [
    "if compare == True:\n",
    "    runprop(dos_file_path2,file_path2)"
   ]
  },
  {
   "cell_type": "markdown",
   "id": "mediterranean-pendant",
   "metadata": {},
   "source": [
    "## Visualise the structure"
   ]
  },
  {
   "cell_type": "markdown",
   "id": "uniform-brush",
   "metadata": {},
   "source": [
    "### Vesta\n",
    "In order to visualise the structure through VESTA, the keword 'EXTPRT' must be included at the end of the geom_block"
   ]
  },
  {
   "cell_type": "code",
   "execution_count": 10,
   "id": "short-procurement",
   "metadata": {},
   "outputs": [
    {
     "ename": "KeyboardInterrupt",
     "evalue": "",
     "output_type": "error",
     "traceback": [
      "\u001b[0;31m---------------------------------------------------------------------------\u001b[0m",
      "\u001b[0;31mKeyboardInterrupt\u001b[0m                         Traceback (most recent call last)",
      "\u001b[0;32m<ipython-input-10-e9c36a68e42d>\u001b[0m in \u001b[0;36m<module>\u001b[0;34m\u001b[0m\n\u001b[1;32m      1\u001b[0m \u001b[0mgui2cif\u001b[0m\u001b[0;34m(\u001b[0m\u001b[0mfile_path\u001b[0m\u001b[0;34m+\u001b[0m\u001b[0;34m'.gui'\u001b[0m\u001b[0;34m)\u001b[0m\u001b[0;34m\u001b[0m\u001b[0;34m\u001b[0m\u001b[0m\n\u001b[1;32m      2\u001b[0m \u001b[0mcif_file_name\u001b[0m \u001b[0;34m=\u001b[0m \u001b[0mfile_path\u001b[0m\u001b[0;34m+\u001b[0m\u001b[0;34m'.cif'\u001b[0m\u001b[0;34m\u001b[0m\u001b[0;34m\u001b[0m\u001b[0m\n\u001b[0;32m----> 3\u001b[0;31m \u001b[0mvesta\u001b[0m\u001b[0;34m(\u001b[0m\u001b[0mcif_file_name\u001b[0m\u001b[0;34m)\u001b[0m\u001b[0;34m\u001b[0m\u001b[0;34m\u001b[0m\u001b[0m\n\u001b[0m",
      "\u001b[0;32m~/Desktop/Imperial/crystal_python_tools/final/examples/workflows/../../functions/settings.py\u001b[0m in \u001b[0;36mvesta\u001b[0;34m(file_name)\u001b[0m\n\u001b[1;32m    110\u001b[0m     \u001b[0mrun_vesta\u001b[0m \u001b[0;34m=\u001b[0m \u001b[0mvesta_path\u001b[0m \u001b[0;34m+\u001b[0m \u001b[0;34m' '\u001b[0m \u001b[0;34m+\u001b[0m \u001b[0mfile_name\u001b[0m\u001b[0;34m\u001b[0m\u001b[0;34m\u001b[0m\u001b[0m\n\u001b[1;32m    111\u001b[0m     \u001b[0mprocess\u001b[0m \u001b[0;34m=\u001b[0m \u001b[0msubprocess\u001b[0m\u001b[0;34m.\u001b[0m\u001b[0mPopen\u001b[0m\u001b[0;34m(\u001b[0m\u001b[0mrun_vesta\u001b[0m\u001b[0;34m.\u001b[0m\u001b[0msplit\u001b[0m\u001b[0;34m(\u001b[0m\u001b[0;34m)\u001b[0m\u001b[0;34m,\u001b[0m \u001b[0mstdout\u001b[0m\u001b[0;34m=\u001b[0m\u001b[0msubprocess\u001b[0m\u001b[0;34m.\u001b[0m\u001b[0mPIPE\u001b[0m\u001b[0;34m,\u001b[0m \u001b[0mstderr\u001b[0m\u001b[0;34m=\u001b[0m \u001b[0msubprocess\u001b[0m\u001b[0;34m.\u001b[0m\u001b[0mPIPE\u001b[0m\u001b[0;34m)\u001b[0m\u001b[0;34m\u001b[0m\u001b[0;34m\u001b[0m\u001b[0m\n\u001b[0;32m--> 112\u001b[0;31m     \u001b[0moutput\u001b[0m\u001b[0;34m,\u001b[0m \u001b[0merror\u001b[0m \u001b[0;34m=\u001b[0m \u001b[0mprocess\u001b[0m\u001b[0;34m.\u001b[0m\u001b[0mcommunicate\u001b[0m\u001b[0;34m(\u001b[0m\u001b[0;34m)\u001b[0m\u001b[0;34m\u001b[0m\u001b[0;34m\u001b[0m\u001b[0m\n\u001b[0m\u001b[1;32m    113\u001b[0m \u001b[0;34m\u001b[0m\u001b[0m\n",
      "\u001b[0;32m~/miniconda3/envs/cpt/lib/python3.9/subprocess.py\u001b[0m in \u001b[0;36mcommunicate\u001b[0;34m(self, input, timeout)\u001b[0m\n\u001b[1;32m   1132\u001b[0m \u001b[0;34m\u001b[0m\u001b[0m\n\u001b[1;32m   1133\u001b[0m             \u001b[0;32mtry\u001b[0m\u001b[0;34m:\u001b[0m\u001b[0;34m\u001b[0m\u001b[0;34m\u001b[0m\u001b[0m\n\u001b[0;32m-> 1134\u001b[0;31m                 \u001b[0mstdout\u001b[0m\u001b[0;34m,\u001b[0m \u001b[0mstderr\u001b[0m \u001b[0;34m=\u001b[0m \u001b[0mself\u001b[0m\u001b[0;34m.\u001b[0m\u001b[0m_communicate\u001b[0m\u001b[0;34m(\u001b[0m\u001b[0minput\u001b[0m\u001b[0;34m,\u001b[0m \u001b[0mendtime\u001b[0m\u001b[0;34m,\u001b[0m \u001b[0mtimeout\u001b[0m\u001b[0;34m)\u001b[0m\u001b[0;34m\u001b[0m\u001b[0;34m\u001b[0m\u001b[0m\n\u001b[0m\u001b[1;32m   1135\u001b[0m             \u001b[0;32mexcept\u001b[0m \u001b[0mKeyboardInterrupt\u001b[0m\u001b[0;34m:\u001b[0m\u001b[0;34m\u001b[0m\u001b[0;34m\u001b[0m\u001b[0m\n\u001b[1;32m   1136\u001b[0m                 \u001b[0;31m# https://bugs.python.org/issue25942\u001b[0m\u001b[0;34m\u001b[0m\u001b[0;34m\u001b[0m\u001b[0;34m\u001b[0m\u001b[0m\n",
      "\u001b[0;32m~/miniconda3/envs/cpt/lib/python3.9/subprocess.py\u001b[0m in \u001b[0;36m_communicate\u001b[0;34m(self, input, endtime, orig_timeout)\u001b[0m\n\u001b[1;32m   1977\u001b[0m                             'failed to raise TimeoutExpired.')\n\u001b[1;32m   1978\u001b[0m \u001b[0;34m\u001b[0m\u001b[0m\n\u001b[0;32m-> 1979\u001b[0;31m                     \u001b[0mready\u001b[0m \u001b[0;34m=\u001b[0m \u001b[0mselector\u001b[0m\u001b[0;34m.\u001b[0m\u001b[0mselect\u001b[0m\u001b[0;34m(\u001b[0m\u001b[0mtimeout\u001b[0m\u001b[0;34m)\u001b[0m\u001b[0;34m\u001b[0m\u001b[0;34m\u001b[0m\u001b[0m\n\u001b[0m\u001b[1;32m   1980\u001b[0m                     \u001b[0mself\u001b[0m\u001b[0;34m.\u001b[0m\u001b[0m_check_timeout\u001b[0m\u001b[0;34m(\u001b[0m\u001b[0mendtime\u001b[0m\u001b[0;34m,\u001b[0m \u001b[0morig_timeout\u001b[0m\u001b[0;34m,\u001b[0m \u001b[0mstdout\u001b[0m\u001b[0;34m,\u001b[0m \u001b[0mstderr\u001b[0m\u001b[0;34m)\u001b[0m\u001b[0;34m\u001b[0m\u001b[0;34m\u001b[0m\u001b[0m\n\u001b[1;32m   1981\u001b[0m \u001b[0;34m\u001b[0m\u001b[0m\n",
      "\u001b[0;32m~/miniconda3/envs/cpt/lib/python3.9/selectors.py\u001b[0m in \u001b[0;36mselect\u001b[0;34m(self, timeout)\u001b[0m\n\u001b[1;32m    414\u001b[0m         \u001b[0mready\u001b[0m \u001b[0;34m=\u001b[0m \u001b[0;34m[\u001b[0m\u001b[0;34m]\u001b[0m\u001b[0;34m\u001b[0m\u001b[0;34m\u001b[0m\u001b[0m\n\u001b[1;32m    415\u001b[0m         \u001b[0;32mtry\u001b[0m\u001b[0;34m:\u001b[0m\u001b[0;34m\u001b[0m\u001b[0;34m\u001b[0m\u001b[0m\n\u001b[0;32m--> 416\u001b[0;31m             \u001b[0mfd_event_list\u001b[0m \u001b[0;34m=\u001b[0m \u001b[0mself\u001b[0m\u001b[0;34m.\u001b[0m\u001b[0m_selector\u001b[0m\u001b[0;34m.\u001b[0m\u001b[0mpoll\u001b[0m\u001b[0;34m(\u001b[0m\u001b[0mtimeout\u001b[0m\u001b[0;34m)\u001b[0m\u001b[0;34m\u001b[0m\u001b[0;34m\u001b[0m\u001b[0m\n\u001b[0m\u001b[1;32m    417\u001b[0m         \u001b[0;32mexcept\u001b[0m \u001b[0mInterruptedError\u001b[0m\u001b[0;34m:\u001b[0m\u001b[0;34m\u001b[0m\u001b[0;34m\u001b[0m\u001b[0m\n\u001b[1;32m    418\u001b[0m             \u001b[0;32mreturn\u001b[0m \u001b[0mready\u001b[0m\u001b[0;34m\u001b[0m\u001b[0;34m\u001b[0m\u001b[0m\n",
      "\u001b[0;31mKeyboardInterrupt\u001b[0m: "
     ]
    }
   ],
   "source": [
    "gui2cif(file_path+'.gui')\n",
    "cif_file_name = file_path+'.cif'\n",
    "vesta(cif_file_name)"
   ]
  },
  {
   "cell_type": "markdown",
   "id": "subject-spider",
   "metadata": {},
   "source": [
    "### ASE view"
   ]
  },
  {
   "cell_type": "code",
   "execution_count": 11,
   "id": "religious-fruit",
   "metadata": {
    "scrolled": true
   },
   "outputs": [
    {
     "data": {
      "text/html": [
       "<html>\n",
       "\n",
       " <head>\n",
       "\n",
       "  <title>ASE atomic visualization</title>\n",
       "\n",
       "  <link rel=\"stylesheet\" type=\"text/css\"\n",
       "\n",
       "   href=\"https://www.x3dom.org/x3dom/release/x3dom.css\">\n",
       "\n",
       "  </link>\n",
       "\n",
       "  <script type=\"text/javascript\"\n",
       "\n",
       "   src=\"https://www.x3dom.org/x3dom/release/x3dom.js\">\n",
       "\n",
       "  </script>\n",
       "\n",
       " </head>\n",
       "\n",
       " <body>\n",
       "\n",
       "  <X3D>\n",
       "\n",
       "   <Scene>\n",
       "\n",
       "    <Transform translation=\"0.00 0.00 0.00\">\n",
       "\n",
       "     <Shape>\n",
       "\n",
       "      <Appearance>\n",
       "\n",
       "       <Material diffuseColor=\"0.541 1.000 0.000\" specularColor=\"0.5 0.5 0.5\">\n",
       "\n",
       "       </Material>\n",
       "\n",
       "      </Appearance>\n",
       "\n",
       "      <Sphere radius=\"1.41\">\n",
       "\n",
       "      </Sphere>\n",
       "\n",
       "     </Shape>\n",
       "\n",
       "    </Transform>\n",
       "\n",
       "    <Transform translation=\"0.00 0.00 -2.11\">\n",
       "\n",
       "     <Shape>\n",
       "\n",
       "      <Appearance>\n",
       "\n",
       "       <Material diffuseColor=\"1.000 0.051 0.051\" specularColor=\"0.5 0.5 0.5\">\n",
       "\n",
       "       </Material>\n",
       "\n",
       "      </Appearance>\n",
       "\n",
       "      <Sphere radius=\"0.66\">\n",
       "\n",
       "      </Sphere>\n",
       "\n",
       "     </Shape>\n",
       "\n",
       "    </Transform>\n",
       "\n",
       "   </Scene>\n",
       "\n",
       "  </X3D>\n",
       "\n",
       " </body>\n",
       "\n",
       "</html>\n",
       "\n"
      ],
      "text/plain": [
       "<IPython.core.display.HTML object>"
      ]
     },
     "execution_count": 11,
     "metadata": {},
     "output_type": "execute_result"
    }
   ],
   "source": [
    "gui_file_name = file_path+'.gui'\n",
    "atoms = read_crystal(gui_file_name)\n",
    "view(atoms, viewer='x3d')"
   ]
  },
  {
   "cell_type": "markdown",
   "id": "apparent-mortgage",
   "metadata": {},
   "source": [
    "### Matplotlib"
   ]
  },
  {
   "cell_type": "code",
   "execution_count": 20,
   "id": "mighty-devices",
   "metadata": {},
   "outputs": [
    {
     "data": {
      "text/plain": [
       "<AxesSubplot:>"
      ]
     },
     "execution_count": 20,
     "metadata": {},
     "output_type": "execute_result"
    }
   ],
   "source": [
    "gui_file_name = file_path+'.gui'\n",
    "atoms = read_crystal(gui_file_name)\n",
    "fig, ax = plt.subplots()\n",
    "plot_atoms(atoms, ax, radii=0.3, rotation=('90x,90y,90z'))"
   ]
  },
  {
   "cell_type": "markdown",
   "id": "compliant-ownership",
   "metadata": {},
   "source": [
    "## Electronic structure"
   ]
  },
  {
   "cell_type": "markdown",
   "id": "instant-affiliation",
   "metadata": {},
   "source": [
    "### Band structure"
   ]
  },
  {
   "cell_type": "code",
   "execution_count": 13,
   "id": "supposed-dream",
   "metadata": {},
   "outputs": [],
   "source": [
    "plot_bs(bands_file_path,k_labels,energy_range,title_bs,not_scaled=False)"
   ]
  },
  {
   "cell_type": "markdown",
   "id": "foreign-environment",
   "metadata": {},
   "source": [
    "### DOS"
   ]
  },
  {
   "cell_type": "code",
   "execution_count": 14,
   "id": "reserved-trailer",
   "metadata": {},
   "outputs": [],
   "source": [
    "plot_doss(doss_file_path,energy_range,dos_labels,title=False,not_scaled=False)"
   ]
  },
  {
   "cell_type": "markdown",
   "id": "considered-triumph",
   "metadata": {},
   "source": [
    "### Band structure + DOS"
   ]
  },
  {
   "cell_type": "code",
   "execution_count": 15,
   "id": "several-torture",
   "metadata": {},
   "outputs": [],
   "source": [
    "plot_es(bands_file_path,doss_file_path,k_labels,energy_range,dos_labels,title_bs,not_scaled=False)"
   ]
  },
  {
   "cell_type": "markdown",
   "id": "oriental-hundred",
   "metadata": {},
   "source": [
    "### Compare band structures"
   ]
  },
  {
   "cell_type": "code",
   "execution_count": 16,
   "id": "partial-configuration",
   "metadata": {
    "scrolled": false
   },
   "outputs": [],
   "source": [
    "compare_bs(bands_file_path, bands_file_path2, k_labels, energy_range, not_scaled=False)"
   ]
  },
  {
   "cell_type": "markdown",
   "id": "spanish-james",
   "metadata": {},
   "source": [
    "### Compare electronic structures"
   ]
  },
  {
   "cell_type": "code",
   "execution_count": 17,
   "id": "surgical-defense",
   "metadata": {},
   "outputs": [],
   "source": [
    "compare_es(bands_file_path, bands_file_path2, doss_file_path, doss_file_path2, k_labels, energy_range,not_scaled=False)"
   ]
  }
 ],
 "metadata": {
  "kernelspec": {
   "display_name": "Python 3",
   "language": "python",
   "name": "python3"
  },
  "language_info": {
   "codemirror_mode": {
    "name": "ipython",
    "version": 3
   },
   "file_extension": ".py",
   "mimetype": "text/x-python",
   "name": "python",
   "nbconvert_exporter": "python",
   "pygments_lexer": "ipython3",
   "version": "3.9.6"
  }
 },
 "nbformat": 4,
 "nbformat_minor": 5
}
