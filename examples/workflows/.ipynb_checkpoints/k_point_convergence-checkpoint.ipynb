{
 "cells": [
  {
   "cell_type": "code",
   "execution_count": null,
   "id": "solar-nowhere",
   "metadata": {},
   "outputs": [],
   "source": []
  },
  {
   "cell_type": "code",
   "execution_count": 1,
   "id": "finnish-transportation",
   "metadata": {},
   "outputs": [],
   "source": [
    "import sys\n",
    "sys.path.insert(1, '../functions/')\n",
    "\n",
    "from settings import runcry\n",
    "\n",
    "from crystal_io import read_input\n",
    "from crystal_io import write_input\n",
    "\n",
    "from extract_info import final_energy\n",
    "\n",
    "from settings import clean_wf\n",
    "\n",
    "import re\n",
    "import numpy as np\n",
    "import matplotlib.pyplot as plt\n",
    "from os.path import join\n",
    "import pandas as pd\n",
    "import time"
   ]
  },
  {
   "cell_type": "code",
   "execution_count": 2,
   "id": "funny-substitute",
   "metadata": {},
   "outputs": [],
   "source": [
    "directory = '../data'\n",
    "input_name = 'BN.d12'\n",
    "file_path = join(directory,input_name)\n",
    "initial = 6\n",
    "final = 10\n",
    "step = 1\n",
    "sample = [i for i in range(initial,final,step)]"
   ]
  },
  {
   "cell_type": "code",
   "execution_count": 3,
   "id": "affected-belfast",
   "metadata": {},
   "outputs": [],
   "source": [
    "geom_block,optgeom_block,bs_block,func_block,scf_block = read_input(file_path)"
   ]
  },
  {
   "cell_type": "code",
   "execution_count": 6,
   "id": "julian-bradford",
   "metadata": {},
   "outputs": [
    {
     "data": {
      "image/png": "[encoded data removed]",
      "text/plain": [
       "<Figure size 432x288 with 1 Axes>"
      ]
     },
     "metadata": {
      "needs_background": "light"
     },
     "output_type": "display_data"
    }
   ],
   "source": [
    "def kpc(directory,input_name,geom_block,bs_block,func_block,scf_block,sample,run=False,clean=True):\n",
    "    energy = []\n",
    "    files_not_found = []\n",
    "    for i,shrink in enumerate(sample):        \n",
    "        for j,line in enumerate(scf_block):\n",
    "            if re.match(r'SHRINK',line): \n",
    "                scf_block[j+1] = str(shrink)+' '+str(shrink*2)+'\\n'\n",
    "        input_convergence = join(directory,input_name[:-4]+'_k%s.d12'%(str(shrink)))\n",
    "        write_input(input_convergence,geom_block,bs_block,func_block,scf_block)\n",
    "        if run == True:\n",
    "            runcry(input_convergence[:-4])\n",
    "            time.sleep(0.1)\n",
    "            E_final = final_energy(input_convergence[:-3]+'out')\n",
    "            if type(E_final) == float:                \n",
    "                if i > 0:           \n",
    "                    energy.append([int(shrink),float(E_final),float(E0_final-E_final)])                    \n",
    "                else:\n",
    "                    energy.append([int(shrink),float(E_final),'-'])\n",
    "                E0_final = E_final\n",
    "            else:\n",
    "                files_not_found.append(input_name[:-3]+'out')\n",
    "            clean_wf(directory,input_name)\n",
    "            \n",
    "    if len(files_not_found) > 0:\n",
    "        print('The following outputs were not found: '+','.join(files_not_found))    \n",
    "        \n",
    "    #Plot the Delta E\n",
    "    fig, ax1 = plt.subplots(1,1)\n",
    "    energy_arr = np.array(energy)\n",
    "    #energy_arr[1:,:] = energy_arr[1:,:].astype('f')\n",
    "    #energy_arr[:,:-1] = energy_arr[:,:-1].astype('f')\n",
    "    energy_arr = energy_arr[1:,:].astype('f')\n",
    "    #delta_E = energy_arr[1:,:].astype('f')\n",
    "    ax1.plot(energy_arr[:,0], energy_arr[:,2],'o-', c='black')\n",
    "    ax1.set_title('Total energy convergence', size = 18)\n",
    "    ax1.set_xticks(energy_arr[:,0].astype('float64'))\n",
    "    ax1.set_xlabel('Shrinking factor', size =12)\n",
    "    ax1.set_ylabel('Delta E (eV)', size =12)\n",
    "    #ax1.ticklabel_format(axis='y', style='scientific')\n",
    "    #ax1.yaxis.set_major_formatter(mtick.FormatStrFormatter('%.2e'))\n",
    "    ax1.grid()\n",
    "    \n",
    "    #Generate the result table\n",
    "    pd.set_option('display.float_format', '{:.3E}'.format)\n",
    "    energy_df = pd.DataFrame(energy, columns=['Shrink','Final Energy','Delta E'])\n",
    "    \n",
    "    energy_df['Final Energy'].astype('float64').dtypes\n",
    "    energy_df['Delta E'][1:].astype('float64').dtypes\n",
    "    energy_df.set_index('Shrink', inplace = True)\n",
    "    return energy, energy_df\n",
    "energy, energy_df = kpc(geom_block,bs_block,func_block,scf_block,sample,run=True)\n"
   ]
  },
  {
   "cell_type": "code",
   "execution_count": 113,
   "id": "bright-government",
   "metadata": {},
   "outputs": [
    {
     "data": {
      "text/plain": [
       "[[6, -2166.9789258000555, '-'],\n",
       " [8, -2166.97875465801, -0.00017114204547397094],\n",
       " [9, -2166.9787688337888, 1.4175778687786078e-05]]"
      ]
     },
     "execution_count": 113,
     "metadata": {},
     "output_type": "execute_result"
    }
   ],
   "source": [
    "energy"
   ]
  },
  {
   "cell_type": "code",
   "execution_count": 114,
   "id": "false-leone",
   "metadata": {},
   "outputs": [
    {
     "data": {
      "text/plain": [
       "array([[ 8.0000000e+00, -2.1669788e+03, -1.7114205e-04],\n",
       "       [ 9.0000000e+00, -2.1669788e+03,  1.4175779e-05]], dtype=float32)"
      ]
     },
     "execution_count": 114,
     "metadata": {},
     "output_type": "execute_result"
    }
   ],
   "source": [
    "\n",
    "energy_arr"
   ]
  },
  {
   "cell_type": "code",
   "execution_count": 115,
   "id": "agricultural-express",
   "metadata": {},
   "outputs": [
    {
     "data": {
      "text/html": [
       "<div>\n",
       "<style scoped>\n",
       "    .dataframe tbody tr th:only-of-type {\n",
       "        vertical-align: middle;\n",
       "    }\n",
       "\n",
       "    .dataframe tbody tr th {\n",
       "        vertical-align: top;\n",
       "    }\n",
       "\n",
       "    .dataframe thead th {\n",
       "        text-align: right;\n",
       "    }\n",
       "</style>\n",
       "<table border=\"1\" class=\"dataframe\">\n",
       "  <thead>\n",
       "    <tr style=\"text-align: right;\">\n",
       "      <th></th>\n",
       "      <th>Final Energy</th>\n",
       "      <th>Delta E</th>\n",
       "    </tr>\n",
       "    <tr>\n",
       "      <th>Shrink</th>\n",
       "      <th></th>\n",
       "      <th></th>\n",
       "    </tr>\n",
       "  </thead>\n",
       "  <tbody>\n",
       "    <tr>\n",
       "      <th>6</th>\n",
       "      <td>-2.167E+03</td>\n",
       "      <td>-</td>\n",
       "    </tr>\n",
       "    <tr>\n",
       "      <th>8</th>\n",
       "      <td>-2.167E+03</td>\n",
       "      <td>-1.711E-04</td>\n",
       "    </tr>\n",
       "    <tr>\n",
       "      <th>9</th>\n",
       "      <td>-2.167E+03</td>\n",
       "      <td>1.418E-05</td>\n",
       "    </tr>\n",
       "  </tbody>\n",
       "</table>\n",
       "</div>"
      ],
      "text/plain": [
       "        Final Energy    Delta E\n",
       "Shrink                         \n",
       "6         -2.167E+03          -\n",
       "8         -2.167E+03 -1.711E-04\n",
       "9         -2.167E+03  1.418E-05"
      ]
     },
     "execution_count": 115,
     "metadata": {},
     "output_type": "execute_result"
    }
   ],
   "source": [
    "energy_df"
   ]
  },
  {
   "cell_type": "code",
   "execution_count": 88,
   "id": "whole-difficulty",
   "metadata": {},
   "outputs": [
    {
     "data": {
      "image/png": "[encoded data removed]",
      "text/plain": [
       "<Figure size 432x288 with 1 Axes>"
      ]
     },
     "metadata": {
      "needs_background": "light"
     },
     "output_type": "display_data"
    }
   ],
   "source": [
    "fig, ax1 = plt.subplots(1,1)\n",
    "energy_arr[1:,:] = energy_arr[1:,:].astype('float64')\n",
    "ax1.plot(energy_arr[1:,0], energy_arr[1:,2],'o-', c='black')\n",
    "ax1.set_title('Total energy convergence', size = 18)\n",
    "ax1.set_xticks(energy_arr[:,0].astype('float64'))\n",
    "ax1.set_xlabel('Shrinking factor', size =12)\n",
    "ax1.set_ylabel('Delta E (eV)', size =12)\n",
    "#ax1.ticklabel_format(axis='y', style='scientific')\n",
    "ax1.grid()"
   ]
  },
  {
   "cell_type": "code",
   "execution_count": 56,
   "id": "yellow-invalid",
   "metadata": {},
   "outputs": [
    {
     "data": {
      "text/plain": [
       "[<matplotlib.lines.Line2D at 0x7fdc198190a0>]"
      ]
     },
     "execution_count": 56,
     "metadata": {},
     "output_type": "execute_result"
    },
    {
     "data": {
      "image/png": "[encoded data removed]",
      "text/plain": [
       "<Figure size 432x288 with 1 Axes>"
      ]
     },
     "metadata": {
      "needs_background": "light"
     },
     "output_type": "display_data"
    }
   ],
   "source": [
    "plt.plot(energy_arr[1:,0].astype('float64'), energy_arr[1:,1].astype('float64'),'*' , c='black')"
   ]
  }
 ],
 "metadata": {
  "kernelspec": {
   "display_name": "Python 3",
   "language": "python",
   "name": "python3"
  },
  "language_info": {
   "codemirror_mode": {
    "name": "ipython",
    "version": 3
   },
   "file_extension": ".py",
   "mimetype": "text/x-python",
   "name": "python",
   "nbconvert_exporter": "python",
   "pygments_lexer": "ipython3",
   "version": "3.9.2"
  }
 },
 "nbformat": 4,
 "nbformat_minor": 5
}
