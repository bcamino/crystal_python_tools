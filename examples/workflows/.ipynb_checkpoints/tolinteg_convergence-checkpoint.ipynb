{
 "cells": [
  {
   "cell_type": "code",
   "execution_count": null,
   "id": "changed-framework",
   "metadata": {},
   "outputs": [],
   "source": []
  },
  {
   "cell_type": "code",
   "execution_count": 1,
   "id": "unlimited-spoke",
   "metadata": {},
   "outputs": [],
   "source": [
    "import sys\n",
    "sys.path.insert(1, '../functions/')\n",
    "\n",
    "from settings import runcry\n",
    "\n",
    "from crystal_io import read_input\n",
    "from crystal_io import write_input\n",
    "\n",
    "from extract_info import final_energy\n",
    "\n",
    "from settings import clean_wf\n",
    "\n",
    "import re\n",
    "import numpy as np\n",
    "import matplotlib.pyplot as plt\n",
    "from os.path import join\n",
    "import pandas as pd\n",
    "import time"
   ]
  },
  {
   "cell_type": "code",
   "execution_count": 3,
   "id": "adjusted-chile",
   "metadata": {},
   "outputs": [],
   "source": [
    "directory = '../data'\n",
    "input_name = 'BN.d12'\n",
    "file_path = join(directory,input_name)\n",
    "grid_size = ['LGRID','XLGRID','XXLGRID']"
   ]
  },
  {
   "cell_type": "code",
   "execution_count": 4,
   "id": "secondary-activation",
   "metadata": {},
   "outputs": [],
   "source": [
    "geom_block,optgeom_block,bs_block,func_block,scf_block = read_input(file_path)"
   ]
  },
  {
   "cell_type": "code",
   "execution_count": 16,
   "id": "cordless-going",
   "metadata": {},
   "outputs": [
    {
     "data": {
      "text/html": [
       "<div>\n",
       "<style scoped>\n",
       "    .dataframe tbody tr th:only-of-type {\n",
       "        vertical-align: middle;\n",
       "    }\n",
       "\n",
       "    .dataframe tbody tr th {\n",
       "        vertical-align: top;\n",
       "    }\n",
       "\n",
       "    .dataframe thead th {\n",
       "        text-align: right;\n",
       "    }\n",
       "</style>\n",
       "<table border=\"1\" class=\"dataframe\">\n",
       "  <thead>\n",
       "    <tr style=\"text-align: right;\">\n",
       "      <th></th>\n",
       "      <th>Energy</th>\n",
       "      <th>Delta E</th>\n",
       "    </tr>\n",
       "    <tr>\n",
       "      <th>Grid</th>\n",
       "      <th></th>\n",
       "      <th></th>\n",
       "    </tr>\n",
       "  </thead>\n",
       "  <tbody>\n",
       "    <tr>\n",
       "      <th>LGRID</th>\n",
       "      <td>-2.167E+03</td>\n",
       "      <td>-</td>\n",
       "    </tr>\n",
       "    <tr>\n",
       "      <th>XLGRID</th>\n",
       "      <td>-2.167E+03</td>\n",
       "      <td>-2.106E-04</td>\n",
       "    </tr>\n",
       "    <tr>\n",
       "      <th>XXLGRID</th>\n",
       "      <td>-2.167E+03</td>\n",
       "      <td>6.341E-06</td>\n",
       "    </tr>\n",
       "  </tbody>\n",
       "</table>\n",
       "</div>"
      ],
      "text/plain": [
       "            Energy    Delta E\n",
       "Grid                         \n",
       "LGRID   -2.167E+03          -\n",
       "XLGRID  -2.167E+03 -2.106E-04\n",
       "XXLGRID -2.167E+03  6.341E-06"
      ]
     },
     "execution_count": 16,
     "metadata": {},
     "output_type": "execute_result"
    }
   ],
   "source": [
    "def grid_size_convergence(geom_block,bs_block,func_block,scf_block,grid_size,run=False,clean=True):\n",
    "    files_not_found = []\n",
    "    energy = []\n",
    "    for i,grid in enumerate(grid_size):  \n",
    "        func_block[-2] = grid+'\\n'\n",
    "        input_convergence = join(directory,input_name[:-4]+'_%s.d12'%(grid))\n",
    "        write_input(input_convergence,geom_block,bs_block,func_block,scf_block)\n",
    "        if run == True:\n",
    "            runcry(input_convergence[:-4])\n",
    "            time.sleep(3)\n",
    "            E_final = final_energy(input_convergence[:-3]+'out')\n",
    "            if type(E_final) == float:                \n",
    "                if i > 0:           \n",
    "                    energy.append([grid,float(E_final),float(E0_final-E_final)])                    \n",
    "                else:\n",
    "                    energy.append([grid,float(E_final),'-'])\n",
    "                E0_final = E_final\n",
    "            else:\n",
    "                files_not_found.append(input_name[:-4]+'_%s.d12'%(grid)) \n",
    "            clean_wf(directory,input_name)\n",
    "    \n",
    "    energy_df = pd.DataFrame(energy, columns =['Grid','Energy','Delta E'])\n",
    "    energy_df.set_index('Grid', inplace=True)\n",
    "    pd.set_option('display.float_format', '{:.3E}'.format)#, index=index )\n",
    "\n",
    "    if len(files_not_found) > 0:\n",
    "        print('The following outputs were not found: '+','.join(files_not_found))\n",
    "                    \n",
    "    return energy_df             \n",
    "\n",
    "energy_df = grid_size_convergence(geom_block,bs_block,func_block,scf_block,grid_size,run=True)\n",
    "energy_df"
   ]
  },
  {
   "cell_type": "code",
   "execution_count": null,
   "id": "handy-blackjack",
   "metadata": {},
   "outputs": [],
   "source": []
  }
 ],
 "metadata": {
  "kernelspec": {
   "display_name": "Python 3",
   "language": "python",
   "name": "python3"
  },
  "language_info": {
   "codemirror_mode": {
    "name": "ipython",
    "version": 3
   },
   "file_extension": ".py",
   "mimetype": "text/x-python",
   "name": "python",
   "nbconvert_exporter": "python",
   "pygments_lexer": "ipython3",
   "version": "3.9.2"
  }
 },
 "nbformat": 4,
 "nbformat_minor": 5
}
