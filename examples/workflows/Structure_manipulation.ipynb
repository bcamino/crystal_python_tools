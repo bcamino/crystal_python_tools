{
 "cells": [
  {
   "cell_type": "markdown",
   "id": "adolescent-stomach",
   "metadata": {},
   "source": [
    "# Generate the input starting from the bulk - Example\n",
    "\n",
    "This notebooks helps you build a structure, modify it, visualise it and write it to file. It all starts with a bulk input (<i>input name</i> in <i>directory</i>).  The user can then choose to:\n",
    "- build a supercell\n",
    "- insert atoms\n",
    "- display atoms\n",
    "- replace atoms\n",
    "- remove atoms\n",
    "\n",
    "The geom_block (the part of the input containing the geometry) is overwritten for each geom modification. This means that the order the operations are performed matters. For example, if you want to create a suepercell first and then replace some of the atoms, in the second step, the geom_block will be the supercell one. Therefore, the indexes of the atoms in the supercell need to be given."
   ]
  },
  {
   "cell_type": "code",
   "execution_count": 1,
   "id": "african-basin",
   "metadata": {},
   "outputs": [],
   "source": [
    "import sys\n",
    "sys.path.insert(1, '../../functions')\n",
    "sys.path.insert(1, '../')\n",
    "from os.path import join\n",
    "import os\n",
    "import numpy as np\n",
    "\n",
    "from ase.cluster import wulff_construction\n",
    "from ase.visualize import view\n",
    "from ase import Atoms\n",
    "\n",
    "\n",
    "from crystal_io import read_input\n",
    "from crystal_io import write_input\n",
    "\n",
    "from settings import runcry\n",
    "from settings import vesta\n",
    "from geom_modification import make_supercell\n",
    "from geom_modification import insert_atom\n",
    "from geom_modification import displace_atom\n",
    "from geom_modification import substitute_atom\n",
    "from geom_modification import remove_atom\n",
    "from visualisation_tools import gui2cif\n",
    "\n",
    "from ase.io.crystal import read_crystal"
   ]
  },
  {
   "cell_type": "code",
   "execution_count": 2,
   "id": "blessed-lingerie",
   "metadata": {},
   "outputs": [],
   "source": [
    "#Variables used in the whole notebook\n",
    "directory = '../data/geom' # directory where the original input is saved\n",
    "input_name = 'mgo.d12' # name of the original input\n",
    "final_input_name = 'mgo_final.d12'\n",
    "file_path = join(directory,input_name)\n",
    "final_file_path = join(directory,final_input_name)\n",
    "\n",
    "#Supercell generation\n",
    "supercell_generation = True\n",
    "expansion_matrix = [2, 0, 0, 0, 2, 0, 0, 0, 2] #list of int\n",
    "\n",
    "#Insert atom\n",
    "atom_insertion = True\n",
    "atomic_number_i = ['1'] #list of strings\n",
    "coordinates_i   = [[0.000, 0.000, 0.000]] #list of list where the n-th list contains the xyz coordinates of the n-th atom\n",
    "\n",
    "#Replace atoms\n",
    "replace_atoms = True\n",
    "replaced_atom = ['1','2'] #list of strings\n",
    "atomic_number_r = ['20','16'] #list of strings where the n-th element is the atomic number of the n-th atom\n",
    "\n",
    "# Displace atoms\n",
    "displaced_atoms = True\n",
    "displaced_atom = ['1'] #list of strings\n",
    "coordinates_d = [[1.0, 1.0, 1.0]] #list of list where the n-th list contains the xyz coordinates of the n-th atom\n",
    "\n",
    "#Remove atoms\n",
    "remove_atoms = True\n",
    "#Index of the atoms to be removed\n",
    "atoms_index = ['1','2'] #list of strings \n",
    "\n",
    "#Testgeom\n",
    "testgeom = True\n",
    "\n",
    "#Run the calculation\n",
    "run = False\n",
    "\n",
    "#Delete the wave function files after running the calculation\n",
    "clean = True"
   ]
  },
  {
   "cell_type": "code",
   "execution_count": 3,
   "id": "juvenile-island",
   "metadata": {},
   "outputs": [],
   "source": [
    "geom_block,optgeom_block,bs_block,func_block,scf_block = read_input(file_path)"
   ]
  },
  {
   "cell_type": "markdown",
   "id": "hollywood-proportion",
   "metadata": {},
   "source": [
    "### Supercell generation"
   ]
  },
  {
   "cell_type": "code",
   "execution_count": 4,
   "id": "designed-lexington",
   "metadata": {},
   "outputs": [],
   "source": [
    "if supercell_generation == True:\n",
    "    geom_block,scf_block = make_supercell(geom_block,scf_block,expansion_matrix)"
   ]
  },
  {
   "cell_type": "markdown",
   "id": "detailed-death",
   "metadata": {},
   "source": [
    "### Insert atom"
   ]
  },
  {
   "cell_type": "code",
   "execution_count": 5,
   "id": "historical-criticism",
   "metadata": {},
   "outputs": [],
   "source": [
    "if atom_insertion == True:\n",
    "    geom_block = insert_atom(geom_block,atomic_number_i,coordinates_i) "
   ]
  },
  {
   "cell_type": "markdown",
   "id": "seeing-bouquet",
   "metadata": {},
   "source": [
    "### Substitute atoms"
   ]
  },
  {
   "cell_type": "code",
   "execution_count": 6,
   "id": "naked-prize",
   "metadata": {},
   "outputs": [],
   "source": [
    "if replace_atoms == True:\n",
    "    geom_block = substitute_atom(geom_block,replaced_atom,atomic_number_r)"
   ]
  },
  {
   "cell_type": "markdown",
   "id": "aquatic-negative",
   "metadata": {},
   "source": [
    "### Displace atoms"
   ]
  },
  {
   "cell_type": "code",
   "execution_count": 7,
   "id": "sharp-correspondence",
   "metadata": {},
   "outputs": [],
   "source": [
    "if displaced_atoms == True:\n",
    "    geom_block = displace_atom(geom_block,displaced_atom,coordinates_d)"
   ]
  },
  {
   "cell_type": "markdown",
   "id": "analyzed-variance",
   "metadata": {},
   "source": [
    "### Remove atoms"
   ]
  },
  {
   "cell_type": "code",
   "execution_count": 8,
   "id": "nonprofit-bangkok",
   "metadata": {},
   "outputs": [],
   "source": [
    "if remove_atoms == True:\n",
    "    geom_block = remove_atom(geom_block,atoms_index)"
   ]
  },
  {
   "cell_type": "markdown",
   "id": "conditional-baseball",
   "metadata": {},
   "source": [
    "### Visualise the structure"
   ]
  },
  {
   "cell_type": "code",
   "execution_count": 9,
   "id": "demanding-litigation",
   "metadata": {},
   "outputs": [
    {
     "ename": "KeyboardInterrupt",
     "evalue": "",
     "output_type": "error",
     "traceback": [
      "\u001b[0;31m---------------------------------------------------------------------------\u001b[0m",
      "\u001b[0;31mKeyboardInterrupt\u001b[0m                         Traceback (most recent call last)",
      "\u001b[0;32m<ipython-input-9-8855b6796eaa>\u001b[0m in \u001b[0;36m<module>\u001b[0;34m\u001b[0m\n\u001b[1;32m     11\u001b[0m \u001b[0mcif_file_name\u001b[0m \u001b[0;34m=\u001b[0m \u001b[0mfinal_file_path\u001b[0m\u001b[0;34m[\u001b[0m\u001b[0;34m:\u001b[0m\u001b[0;34m-\u001b[0m\u001b[0;36m4\u001b[0m\u001b[0;34m]\u001b[0m\u001b[0;34m+\u001b[0m\u001b[0;34m'.cif'\u001b[0m\u001b[0;34m\u001b[0m\u001b[0;34m\u001b[0m\u001b[0m\n\u001b[1;32m     12\u001b[0m \u001b[0;34m\u001b[0m\u001b[0m\n\u001b[0;32m---> 13\u001b[0;31m \u001b[0mvesta\u001b[0m\u001b[0;34m(\u001b[0m\u001b[0mcif_file_name\u001b[0m\u001b[0;34m)\u001b[0m\u001b[0;34m\u001b[0m\u001b[0;34m\u001b[0m\u001b[0m\n\u001b[0m\u001b[1;32m     14\u001b[0m \u001b[0mview\u001b[0m\u001b[0;34m(\u001b[0m\u001b[0mread_crystal\u001b[0m\u001b[0;34m(\u001b[0m\u001b[0mfinal_file_path\u001b[0m\u001b[0;34m[\u001b[0m\u001b[0;34m:\u001b[0m\u001b[0;34m-\u001b[0m\u001b[0;36m4\u001b[0m\u001b[0;34m]\u001b[0m\u001b[0;34m+\u001b[0m\u001b[0;34m'.gui'\u001b[0m\u001b[0;34m)\u001b[0m\u001b[0;34m,\u001b[0m\u001b[0mviewer\u001b[0m\u001b[0;34m=\u001b[0m\u001b[0;34m'x3d'\u001b[0m\u001b[0;34m)\u001b[0m\u001b[0;34m\u001b[0m\u001b[0;34m\u001b[0m\u001b[0m\n",
      "\u001b[0;32m~/Desktop/Imperial/crystal_python_tools/final/functions/settings.py\u001b[0m in \u001b[0;36mvesta\u001b[0;34m(file_name)\u001b[0m\n\u001b[1;32m    110\u001b[0m     \u001b[0mrun_vesta\u001b[0m \u001b[0;34m=\u001b[0m \u001b[0mvesta_path\u001b[0m \u001b[0;34m+\u001b[0m \u001b[0;34m' '\u001b[0m \u001b[0;34m+\u001b[0m \u001b[0mfile_name\u001b[0m\u001b[0;34m\u001b[0m\u001b[0;34m\u001b[0m\u001b[0m\n\u001b[1;32m    111\u001b[0m     \u001b[0mprocess\u001b[0m \u001b[0;34m=\u001b[0m \u001b[0msubprocess\u001b[0m\u001b[0;34m.\u001b[0m\u001b[0mPopen\u001b[0m\u001b[0;34m(\u001b[0m\u001b[0mrun_vesta\u001b[0m\u001b[0;34m.\u001b[0m\u001b[0msplit\u001b[0m\u001b[0;34m(\u001b[0m\u001b[0;34m)\u001b[0m\u001b[0;34m,\u001b[0m \u001b[0mstdout\u001b[0m\u001b[0;34m=\u001b[0m\u001b[0msubprocess\u001b[0m\u001b[0;34m.\u001b[0m\u001b[0mPIPE\u001b[0m\u001b[0;34m)\u001b[0m\u001b[0;34m\u001b[0m\u001b[0;34m\u001b[0m\u001b[0m\n\u001b[0;32m--> 112\u001b[0;31m     \u001b[0moutput\u001b[0m\u001b[0;34m,\u001b[0m \u001b[0merror\u001b[0m \u001b[0;34m=\u001b[0m \u001b[0mprocess\u001b[0m\u001b[0;34m.\u001b[0m\u001b[0mcommunicate\u001b[0m\u001b[0;34m(\u001b[0m\u001b[0;34m)\u001b[0m\u001b[0;34m\u001b[0m\u001b[0;34m\u001b[0m\u001b[0m\n\u001b[0m\u001b[1;32m    113\u001b[0m \u001b[0;34m\u001b[0m\u001b[0m\n",
      "\u001b[0;32m~/miniconda3/envs/cc/lib/python3.9/subprocess.py\u001b[0m in \u001b[0;36mcommunicate\u001b[0;34m(self, input, timeout)\u001b[0m\n\u001b[1;32m   1119\u001b[0m                 \u001b[0mself\u001b[0m\u001b[0;34m.\u001b[0m\u001b[0m_stdin_write\u001b[0m\u001b[0;34m(\u001b[0m\u001b[0minput\u001b[0m\u001b[0;34m)\u001b[0m\u001b[0;34m\u001b[0m\u001b[0;34m\u001b[0m\u001b[0m\n\u001b[1;32m   1120\u001b[0m             \u001b[0;32melif\u001b[0m \u001b[0mself\u001b[0m\u001b[0;34m.\u001b[0m\u001b[0mstdout\u001b[0m\u001b[0;34m:\u001b[0m\u001b[0;34m\u001b[0m\u001b[0;34m\u001b[0m\u001b[0m\n\u001b[0;32m-> 1121\u001b[0;31m                 \u001b[0mstdout\u001b[0m \u001b[0;34m=\u001b[0m \u001b[0mself\u001b[0m\u001b[0;34m.\u001b[0m\u001b[0mstdout\u001b[0m\u001b[0;34m.\u001b[0m\u001b[0mread\u001b[0m\u001b[0;34m(\u001b[0m\u001b[0;34m)\u001b[0m\u001b[0;34m\u001b[0m\u001b[0;34m\u001b[0m\u001b[0m\n\u001b[0m\u001b[1;32m   1122\u001b[0m                 \u001b[0mself\u001b[0m\u001b[0;34m.\u001b[0m\u001b[0mstdout\u001b[0m\u001b[0;34m.\u001b[0m\u001b[0mclose\u001b[0m\u001b[0;34m(\u001b[0m\u001b[0;34m)\u001b[0m\u001b[0;34m\u001b[0m\u001b[0;34m\u001b[0m\u001b[0m\n\u001b[1;32m   1123\u001b[0m             \u001b[0;32melif\u001b[0m \u001b[0mself\u001b[0m\u001b[0;34m.\u001b[0m\u001b[0mstderr\u001b[0m\u001b[0;34m:\u001b[0m\u001b[0;34m\u001b[0m\u001b[0;34m\u001b[0m\u001b[0m\n",
      "\u001b[0;31mKeyboardInterrupt\u001b[0m: "
     ]
    }
   ],
   "source": [
    "if testgeom == True:\n",
    "    if 'EXTPRT\\n' not in geom_block:\n",
    "        geom_block.insert(len(geom_block)-1,'EXTPRT\\n')\n",
    "    if 'TESTGEOM\\n' not in geom_block:\n",
    "        geom_block.insert(len(geom_block)-1,'TESTGEOM\\n')\n",
    "\n",
    "write_input(final_file_path,geom_block,bs_block,func_block,scf_block,optgeom_block)\n",
    "runcry(final_file_path[:-4])\n",
    "\n",
    "gui2cif(final_file_path[:-4]+'.gui')\n",
    "cif_file_name = final_file_path[:-4]+'.cif'\n",
    "\n",
    "vesta(cif_file_name)\n",
    "view(read_crystal(final_file_path[:-4]+'.gui'),viewer='x3d')"
   ]
  },
  {
   "cell_type": "markdown",
   "id": "structured-highland",
   "metadata": {},
   "source": [
    "### Write the input"
   ]
  },
  {
   "cell_type": "code",
   "execution_count": 10,
   "id": "still-trunk",
   "metadata": {},
   "outputs": [],
   "source": [
    "write_input(final_file_path,geom_block,bs_block,func_block,scf_block,optgeom_block)"
   ]
  },
  {
   "cell_type": "markdown",
   "id": "musical-referral",
   "metadata": {},
   "source": [
    "### Run the calculation"
   ]
  },
  {
   "cell_type": "code",
   "execution_count": 11,
   "id": "shaped-yellow",
   "metadata": {},
   "outputs": [],
   "source": [
    "if run == True:\n",
    "    runcry(final_file_path[:-4])"
   ]
  }
 ],
 "metadata": {
  "kernelspec": {
   "display_name": "Python 3",
   "language": "python",
   "name": "python3"
  },
  "language_info": {
   "codemirror_mode": {
    "name": "ipython",
    "version": 3
   },
   "file_extension": ".py",
   "mimetype": "text/x-python",
   "name": "python",
   "nbconvert_exporter": "python",
   "pygments_lexer": "ipython3",
   "version": "3.9.6"
  }
 },
 "nbformat": 4,
 "nbformat_minor": 5
}
