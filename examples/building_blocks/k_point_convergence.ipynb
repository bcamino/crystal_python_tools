{
 "cells": [
  {
   "cell_type": "code",
   "execution_count": 1,
   "id": "impossible-graphic",
   "metadata": {},
   "outputs": [],
   "source": [
    "import sys\n",
    "sys.path.insert(1, '../../functions/')\n",
    "\n",
    "from settings import runcry\n",
    "\n",
    "from crystal_io import read_input\n",
    "from crystal_io import write_input\n",
    "\n",
    "from extract_info import final_energy\n",
    "\n",
    "from settings import clean_wf\n",
    "\n",
    "import re\n",
    "import numpy as np\n",
    "import matplotlib.pyplot as plt\n",
    "from os.path import join\n",
    "import pandas as pd\n",
    "import time"
   ]
  },
  {
   "cell_type": "code",
   "execution_count": 2,
   "id": "offshore-search",
   "metadata": {},
   "outputs": [],
   "source": [
    "#directory where the input is saved\n",
    "directory = '../data' \n",
    "\n",
    "#name of the input (including the extension)\n",
    "input_name = 'mgo.d12' \n",
    "\n",
    "file_path = join(directory,input_name)\n",
    "\n",
    "#First k point grid to be sampled\n",
    "initial = 6\n",
    "\n",
    "#Final k point grid to be sampled\n",
    "final = 12\n",
    "\n",
    "#Step between grids\n",
    "step = 1\n",
    "\n",
    "#Run the calculation? (True = run , False = only write the inputs, 'Analyse' = analyse results of a previous calculation)\n",
    "run = False\n",
    "\n",
    "#Delete the wave function files after running the calculation\n",
    "clean = True\n",
    "\n",
    "#please DO NOT modify the following line\n",
    "sample = [i for i in range(initial,final,step)]    "
   ]
  },
  {
   "cell_type": "code",
   "execution_count": 3,
   "id": "delayed-anime",
   "metadata": {},
   "outputs": [],
   "source": [
    "#Read the input and store it in its several blocks\n",
    "geom_block,optgeom_block,bs_block,func_block,scf_block = read_input(file_path)"
   ]
  },
  {
   "cell_type": "code",
   "execution_count": 4,
   "id": "right-clone",
   "metadata": {},
   "outputs": [],
   "source": [
    "#This is the function that runs the calculation (move to the following cell to analyse the results)\n",
    "def kpc(directory,input_name,sample,geom_block,bs_block,func_block,scf_block,run,clean):\n",
    "    energy = []\n",
    "    files_not_found = []    \n",
    "    for i,shrink in enumerate(sample):\n",
    "        input_convergence = join(directory,input_name[:-4]+'_k%s.d12'%(str(shrink)))\n",
    "        if run != 'Analyse':\n",
    "            for j,line in enumerate(scf_block):\n",
    "                if re.match(r'SHRINK',line): \n",
    "                    scf_block[j+1] = str(shrink)+' '+str(shrink*2)+'\\n'        \n",
    "            write_input(input_convergence,geom_block,bs_block,func_block,scf_block)\n",
    "        if run == True:\n",
    "            time_0 = time.time()\n",
    "            runcry(input_convergence[:-4])\n",
    "            time.sleep(1)\n",
    "            if clean == True:\n",
    "                clean_wf(directory,input_convergence)\n",
    "            E_final = final_energy(input_convergence[:-3]+'out')\n",
    "            if type(E_final) == float:                \n",
    "                if i > 0:           \n",
    "                    energy.append([int(shrink),float(E_final),float(E0_final-E_final),time.time()-time_0])                    \n",
    "                else:\n",
    "                    energy.append([int(shrink),float(E_final),'-',time.time()-time_0])\n",
    "                E0_final = E_final\n",
    "            else:\n",
    "                files_not_found.append(input_name[:-3]+'out')\n",
    "        if run == 'Analyse':\n",
    "            E_final = final_energy(input_convergence[:-3]+'out')\n",
    "            if type(E_final) == float:                \n",
    "                if i > 0:           \n",
    "                    energy.append([int(shrink),float(E_final),float(E0_final-E_final)])                    \n",
    "                else:\n",
    "                    energy.append([int(shrink),float(E_final),'-'])\n",
    "                E0_final = E_final\n",
    "            \n",
    "        if len(files_not_found) > 0:\n",
    "            print('The following outputs were not found: '+','.join(files_not_found))  \n",
    "    if run != False:\n",
    "        #Plot the Delta E\n",
    "        fig, ax1 = plt.subplots(1,1)\n",
    "        energy_arr = np.array(energy)\n",
    "        energy_arr = energy_arr[1:,:].astype('f')\n",
    "        ax1.plot(energy_arr[:,0], energy_arr[:,2],'o-', c='black')\n",
    "        ax1.set_title('Total energy convergence', size = 18)\n",
    "        ax1.set_xticks(energy_arr[:,0].astype('float64'))\n",
    "        ax1.set_xlabel('Shrinking factor', size =12)\n",
    "        ax1.set_ylabel('Delta E (eV)', size =12)\n",
    "        ax1.grid()\n",
    "\n",
    "        #Generate the result table\n",
    "        if run == True:\n",
    "            pd.set_option('display.float_format', '{:.3E}'.format)\n",
    "            energy_df = pd.DataFrame(energy, columns=['Shrink','Final Energy','Delta E','Time'])\n",
    "            energy_df['Final Energy'].astype('float64').dtypes\n",
    "            energy_df['Delta E'][1:].astype('float64').dtypes\n",
    "            energy_df.set_index('Shrink', inplace = True)\n",
    "        if run == 'Analyse':\n",
    "            pd.set_option('display.float_format', '{:.3E}'.format)\n",
    "            energy_df = pd.DataFrame(energy, columns=['Shrink','Final Energy','Delta E'])\n",
    "            energy_df['Final Energy'].astype('float64').dtypes\n",
    "            energy_df['Delta E'][1:].astype('float64').dtypes\n",
    "            energy_df.set_index('Shrink', inplace = True)\n",
    "            \n",
    "    if run != False:\n",
    "        return energy_df, energy_arr\n",
    "    else:\n",
    "        return 'Inputs saved'"
   ]
  },
  {
   "cell_type": "code",
   "execution_count": 5,
   "id": "inner-radiation",
   "metadata": {},
   "outputs": [
    {
     "data": {
      "text/plain": [
       "'Inputs saved'"
      ]
     },
     "metadata": {},
     "output_type": "display_data"
    }
   ],
   "source": [
    "if run != False:\n",
    "    energy_df, energy_arr = kpc(directory,input_name,sample,geom_block,bs_block,func_block,scf_block,run,clean)\n",
    "    display(energy_df)\n",
    "else:\n",
    "    display(kpc(directory,input_name,sample,geom_block,bs_block,func_block,scf_block,run,clean))"
   ]
  }
 ],
 "metadata": {
  "kernelspec": {
   "display_name": "Python 3",
   "language": "python",
   "name": "python3"
  },
  "language_info": {
   "codemirror_mode": {
    "name": "ipython",
    "version": 3
   },
   "file_extension": ".py",
   "mimetype": "text/x-python",
   "name": "python",
   "nbconvert_exporter": "python",
   "pygments_lexer": "ipython3",
   "version": "3.9.6"
  }
 },
 "nbformat": 4,
 "nbformat_minor": 5
}
