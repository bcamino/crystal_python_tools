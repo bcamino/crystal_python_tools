{
 "cells": [
  {
   "cell_type": "markdown",
   "id": "pursuant-gossip",
   "metadata": {},
   "source": [
    "This is the right one"
   ]
  },
  {
   "cell_type": "code",
   "execution_count": 1,
   "id": "solar-captain",
   "metadata": {},
   "outputs": [],
   "source": [
    "import sys\n",
    "sys.path.insert(1, '../functions')\n",
    "import numpy as np\n",
    "import matplotlib.pyplot as plt\n",
    "\n",
    "from extract_info import final_energy\n",
    "from extract_info import primitive_lattice\n",
    "from settings import runcry\n",
    "from geom_modification import make_supercell \n",
    "from geom_modification import insert_atom\n",
    "from geom_modification import substitute_atom\n",
    "from geom_modification import displace_atom\n",
    "from geom_modification import remove_atom\n",
    "from visualisation_tools import gui2cif \n",
    "from crystal_io import read_input\n",
    "from crystal_io import write_input\n",
    "from crystal_io import extract_last_geom\n",
    "from plotting import plot_bands\n",
    "from plotting import plot_dos\n",
    "from extract_info import final_energy\n",
    "from os.path import join"
   ]
  },
  {
   "cell_type": "code",
   "execution_count": 19,
   "id": "relevant-complex",
   "metadata": {},
   "outputs": [],
   "source": [
    "directory = '../data'\n",
    "input_name = 'BN.d12'\n",
    "file_path = join(directory,input_name)\n",
    "runcry(file_path)\n",
    "output_name = input_name[:-4]+'.out'\n",
    "out_file_path = join(directory,output_name)\n",
    "a =  primitive_lattice(out_file_path)[0,0:2]\n",
    "b = primitive_lattice(out_file_path)[1,0:2]\n",
    "z= 2.4\n",
    "n_points = 5\n",
    "n_shifts = 3"
   ]
  },
  {
   "cell_type": "code",
   "execution_count": 18,
   "id": "american-broadcasting",
   "metadata": {},
   "outputs": [],
   "source": [
    "def ss_input(a,b,z,n_points,shifts=1):\n",
    "    step = 1./n_points\n",
    "    x = np.arange(0, 1, step)\n",
    "    y = np.arange(0, 1, step)\n",
    "    xx, yy = np.meshgrid(x, y, sparse=False)\n",
    "    index = -1\n",
    "    coordinates = []\n",
    "    odd = np.arange(0,2.1,0.1)\n",
    "    even = np.arange(0.05,2.,0.1)\n",
    "    if shifts%2 == 0:\n",
    "        z_coord = even[(len(even)//2-shifts//2):(len(even)//2+shifts//2)]*z\n",
    "    else:\n",
    "        z_coord = odd[(len(odd)//2-shifts//2):(len(odd)//2+shifts//2)+1]*z    \n",
    "    for s in range(shifts):\n",
    "        xx, yy = np.meshgrid(x, y, sparse=False)\n",
    "        for i in range(xx.shape[0]):\n",
    "            for j in range(xx.shape[1]):            \n",
    "                index += 1\n",
    "                xx[i,j] = xx[i,j]*a[0]+yy[i,j]*b[0]\n",
    "                yy[i,j] = xx[i,j]*a[1]+yy[i,j]*b[1]\n",
    "                coordinates.append([' '.join([str(xx[i,j]),str(yy[i,j]),str(z_coord[s])])])\n",
    "    #plt.plot(xx,yy,'*');\n",
    "    for i in range(len(coordinates)):\n",
    "        geom_block,optgeom_block,bs_block,func_block,scf_block = read_input('../data/BN.d12')\n",
    "        geom_block,scf_block = make_supercell(geom_block,scf_block,[3,0,0,3])        \n",
    "        input_name = '../test/BN3x3_SA_%s_%s.d12' % (i//n_shifts,i%n_shifts)\n",
    "        geom_block = insert_atom(geom_block,['29'],coordinates[i])\n",
    "        write_input(input_name,geom_block,bs_block,func_block,scf_block)\n",
    "        file = open('../test/BN3x3_SS.qsub', 'r')\n",
    "        data = file.readlines()\n",
    "        file.close()\n",
    "        data[34] = '/rds/general/user/gmallia/home/CRYSTAL17_cx1/v2.2gnu/runcryP '+ input_name[8:-4]+'\\n'\n",
    "        data[35] = 'qsub BN3x3_SS_%s.qsub' % (str(i+1))+'\\n'\n",
    "        with open('../test/BN3x3_SS_%s.qsub'%(i), 'w') as file:\n",
    "            for line in data:\n",
    "                file.writelines(line)"
   ]
  },
  {
   "cell_type": "code",
   "execution_count": 20,
   "id": "considerable-judges",
   "metadata": {},
   "outputs": [],
   "source": [
    "ss_input(a,b,z,n_points,shifts=3)"
   ]
  },
  {
   "cell_type": "code",
   "execution_count": 80,
   "id": "angry-import",
   "metadata": {},
   "outputs": [
    {
     "name": "stdout",
     "output_type": "stream",
     "text": [
      "Coordinates of the lowest energy structure\n",
      "0.0 0.0 2.4\n"
     ]
    }
   ],
   "source": [
    "#def ss_analyse(outputs):\n",
    "import re\n",
    "energy = []\n",
    "for i in range(25):\n",
    "    for j in range(3):\n",
    "        with open('../data/sample_surface/BN3x3_SA_%s_%s.out' %(i,j)) as file:\n",
    "            data = file.readlines()\n",
    "        for n,l in enumerate(data):\n",
    "            if re.match(r'^ATOMINSE',l):\n",
    "                energy.append([(data[n+2].split()[1]),data[n+2].split()[2],data[n+2].split()[3],\n",
    "                               final_energy('../data/sample_surface/BN3x3_SA_%s_%s.out' %(i,j))])\n",
    "energy = np.array(energy)\n",
    "\n",
    "energy\n",
    "energy = energy[np.all(energy != None , axis=1)]\n",
    "#print(' '.join(map(str,energy[np.where(energy[:,3] == np.amax(energy[:,3])),0:3])))\n",
    "print('Coordinates of the lowest energy structure')\n",
    "print(' '.join(map(str, energy[np.argmin(energy[:,3]),0:3])))\n"
   ]
  },
  {
   "cell_type": "code",
   "execution_count": null,
   "id": "hungry-sport",
   "metadata": {},
   "outputs": [],
   "source": []
  },
  {
   "cell_type": "code",
   "execution_count": null,
   "id": "noticed-hanging",
   "metadata": {},
   "outputs": [],
   "source": []
  },
  {
   "cell_type": "code",
   "execution_count": null,
   "id": "occupied-denver",
   "metadata": {},
   "outputs": [],
   "source": []
  },
  {
   "cell_type": "code",
   "execution_count": null,
   "id": "diagnostic-skill",
   "metadata": {},
   "outputs": [],
   "source": []
  },
  {
   "cell_type": "code",
   "execution_count": null,
   "id": "moderate-milwaukee",
   "metadata": {},
   "outputs": [],
   "source": []
  },
  {
   "cell_type": "code",
   "execution_count": null,
   "id": "appreciated-richardson",
   "metadata": {},
   "outputs": [],
   "source": []
  },
  {
   "cell_type": "code",
   "execution_count": null,
   "id": "comfortable-motion",
   "metadata": {},
   "outputs": [],
   "source": []
  },
  {
   "cell_type": "code",
   "execution_count": null,
   "id": "compact-screening",
   "metadata": {},
   "outputs": [],
   "source": []
  },
  {
   "cell_type": "code",
   "execution_count": 33,
   "id": "hollow-madagascar",
   "metadata": {},
   "outputs": [
    {
     "name": "stdout",
     "output_type": "stream",
     "text": [
      "[[ 0.70886129  0.57562789  0.42921793 ...  0.27541086  0.42921793\n",
      "   0.57562789]\n",
      " [ 0.57562789  0.4208019   0.2570234  ...  0.09046523  0.2570234\n",
      "   0.4208019 ]\n",
      " [ 0.42921793  0.2570234   0.08068791 ... -0.09334004  0.08068791\n",
      "   0.2570234 ]\n",
      " ...\n",
      " [ 0.27541086  0.09046523 -0.09334004 ... -0.26940744 -0.09334004\n",
      "   0.09046523]\n",
      " [ 0.42921793  0.2570234   0.08068791 ... -0.09334004  0.08068791\n",
      "   0.2570234 ]\n",
      " [ 0.57562789  0.4208019   0.2570234  ...  0.09046523  0.2570234\n",
      "   0.4208019 ]]\n"
     ]
    },
    {
     "data": {
      "image/png": "[encoded data removed]",
      "text/plain": [
       "<Figure size 432x288 with 2 Axes>"
      ]
     },
     "metadata": {
      "needs_background": "light"
     },
     "output_type": "display_data"
    }
   ],
   "source": [
    "import matplotlib.pyplot as plt\n",
    "from matplotlib import cm\n",
    "from matplotlib.ticker import LinearLocator\n",
    "import numpy as np\n",
    "\n",
    "fig, ax = plt.subplots(subplot_kw={\"projection\": \"3d\"})\n",
    "\n",
    "# Make data.\n",
    "X = np.arange(-5, 5, 0.25)\n",
    "Y = np.arange(-5, 5, 0.25)\n",
    "X, Y = np.meshgrid(X, Y)\n",
    "R = np.sqrt(X**2 + Y**2)\n",
    "Z = np.sin(R)\n",
    "print(Z)\n",
    "# Plot the surface.\n",
    "surf = ax.plot_surface(X, Y, Z, cmap=cm.coolwarm,\n",
    "                       linewidth=0, antialiased=False)\n",
    "\n",
    "# Customize the z axis.\n",
    "ax.set_zlim(-1.01, 1.01)\n",
    "ax.zaxis.set_major_locator(LinearLocator(10))\n",
    "# A StrMethodFormatter is used automatically\n",
    "ax.zaxis.set_major_formatter('{x:.02f}')\n",
    "\n",
    "# Add a color bar which maps values to colors.\n",
    "fig.colorbar(surf, shrink=0.5, aspect=5)\n",
    "\n",
    "plt.show()"
   ]
  },
  {
   "cell_type": "code",
   "execution_count": null,
   "id": "former-surface",
   "metadata": {},
   "outputs": [],
   "source": [
    "import matplotlib.pyplot as plt\n",
    "from matplotlib import cm\n",
    "from matplotlib.ticker import LinearLocator\n",
    "import numpy as np\n",
    "\n",
    "fig, ax = plt.subplots(subplot_kw={\"projection\": \"3d\"})\n",
    "\n",
    "# Make data.\n",
    "X = energy[:,0]\n",
    "Y = energy[:,1]\n",
    "Z = energy[:,3]\n",
    "\n",
    "# Plot the surface.\n",
    "surf = ax.plot_surface(X, Y, Z, cmap=cm.coolwarm,\n",
    "                       linewidth=0, antialiased=False)\n",
    "\n",
    "# Customize the z axis.\n",
    "#ax.set_zlim(-1.01, 1.01)\n",
    "#ax.zaxis.set_major_locator(LinearLocator(10))\n",
    "# A StrMethodFormatter is used automatically\n",
    "ax.zaxis.set_major_formatter('{x:.02f}')\n",
    "\n",
    "# Add a color bar which maps values to colors.\n",
    "fig.colorbar(surf, shrink=0.5, aspect=5)\n",
    "\n",
    "plt.show()"
   ]
  }
 ],
 "metadata": {
  "kernelspec": {
   "display_name": "Python 3",
   "language": "python",
   "name": "python3"
  },
  "language_info": {
   "codemirror_mode": {
    "name": "ipython",
    "version": 3
   },
   "file_extension": ".py",
   "mimetype": "text/x-python",
   "name": "python",
   "nbconvert_exporter": "python",
   "pygments_lexer": "ipython3",
   "version": "3.9.2"
  }
 },
 "nbformat": 4,
 "nbformat_minor": 5
}
