{
 "cells": [
  {
   "cell_type": "code",
   "execution_count": 1,
   "id": "senior-storage",
   "metadata": {},
   "outputs": [],
   "source": [
    "import sys\n",
    "sys.path.insert(1, '../../functions/')\n",
    "\n",
    "from settings import runcry\n",
    "\n",
    "from crystal_io import read_input\n",
    "from crystal_io import write_bs\n",
    "from crystal_io import write_input\n",
    "from extract_info import band_gap\n",
    "\n",
    "\n",
    "from extract_info import final_energy\n",
    "\n",
    "from settings import clean_wf\n",
    "\n",
    "import re\n",
    "import numpy as np\n",
    "from os.path import join\n",
    "import pandas as pd\n",
    "import time"
   ]
  },
  {
   "cell_type": "code",
   "execution_count": 2,
   "id": "gorgeous-michigan",
   "metadata": {},
   "outputs": [],
   "source": [
    "#directory where the input is saved\n",
    "directory = '../data' \n",
    "\n",
    "#name of the input (including the extension)\n",
    "input_name = 'mgo.d12' \n",
    "\n",
    "file_path = join(directory,input_name)\n",
    "\n",
    "#the basis sets are specified as a list. If the input contains more than one elements, then this is a list of lists.\n",
    "#In this case, the first list contains all the basis sets for the first element and so on.\n",
    "#All the lists must be of the same lenght.\n",
    "basis_set = [['Mg_8-511G_harrison_1994','O_8-411_muscat_1999'],['Mg_8-511d1G_valenzano_2006','O_8-411d11G_valenzano_2006']]\n",
    "\n",
    "#Specify if this is a spin polarised calculation\n",
    "spin_pol = False\n",
    "\n",
    "#Run the calculation? (True = run , False = only write the inputs, 'Analyse' = analyse results of a previous calculation)\n",
    "run = True\n",
    "\n",
    "#Delete the wave function files after running the calculation\n",
    "clean = True"
   ]
  },
  {
   "cell_type": "code",
   "execution_count": 3,
   "id": "instructional-techno",
   "metadata": {},
   "outputs": [],
   "source": [
    "#Read the input and store it in its several blocks\n",
    "geom_block,optgeom_block,bs_block,func_block,scf_block = read_input(file_path)"
   ]
  },
  {
   "cell_type": "code",
   "execution_count": 4,
   "id": "differential-finding",
   "metadata": {},
   "outputs": [],
   "source": [
    "#This is the function that runs the calculation (move to the following cell to analyse the results)\n",
    "def bs(directory,input_name,geom_block,func_block,scf_block,basis_set,spin_pol,run,clean):\n",
    "    files_not_found = []\n",
    "    energy = []\n",
    "    for i,basis in enumerate(basis_set):\n",
    "        input_convergence = join(directory,input_name[:-4]+'_%s.d12'%(i))    \n",
    "        if run != 'Analyse':\n",
    "            bs_block = write_bs(basis)              \n",
    "            write_input(input_convergence,geom_block,bs_block,func_block,scf_block) \n",
    "        if run == True:\n",
    "            time_0 = time.time()\n",
    "            runcry(input_convergence[:-4])\n",
    "            time.sleep(3)\n",
    "            if clean == True:\n",
    "                clean_wf(directory,input_convergence)  \n",
    "            E_final = final_energy(input_convergence[:-3]+'out')\n",
    "            Band_gap = band_gap(input_convergence[:-3]+'out',spin_pol)\n",
    "            if type(E_final) == float:   \n",
    "                energy.append([' '.join(basis),float(E_final),float(Band_gap),time.time()-time_0]) \n",
    "            else:\n",
    "                files_not_found.append(input_name[:-4]+'_%s.out'%(i)) \n",
    "                #elif type(functional) == list:\n",
    "                    #files_not_found.append(input_name[:-4]+'_%s_%s.out'%(functional[0]+'_'+functional[1])) \n",
    "        if run == 'Analyse':    \n",
    "            E_final = final_energy(input_convergence[:-3]+'out')\n",
    "            Band_gap = band_gap(input_convergence[:-3]+'out',spin_pol)\n",
    "            if type(E_final) == float:   \n",
    "                energy.append([' '.join(basis),float(E_final),float(Band_gap)]) \n",
    "    if run == True:\n",
    "        energy_arr = np.array(energy)\n",
    "        energy_df = pd.DataFrame(energy, columns =['Basis set','Energy','Band Gap (eV)','Time'])\n",
    "        energy_df.set_index('Basis set', inplace=True)\n",
    "        pd.set_option('display.float_format', '{:.3E}'.format)\n",
    "    if run == 'Analyse':\n",
    "        energy_arr = np.array(energy)\n",
    "        energy_df = pd.DataFrame(energy, columns =['Basis set','Energy','Band Gap (eV)'])\n",
    "        energy_df.set_index('Basis set', inplace=True)\n",
    "        pd.set_option('display.float_format', '{:.3E}'.format)\n",
    "        \n",
    "        if len(files_not_found) > 0:\n",
    "            print('The following outputs were not found: '+','.join(files_not_found))\n",
    "    \n",
    "    if run != False:\n",
    "        return energy_df, energy_arr\n",
    "    else:\n",
    "        return 'Inputs saved'"
   ]
  },
  {
   "cell_type": "markdown",
   "id": "broke-republican",
   "metadata": {},
   "source": [
    "### The result is in the cells below"
   ]
  },
  {
   "cell_type": "code",
   "execution_count": 5,
   "id": "silver-scout",
   "metadata": {},
   "outputs": [
    {
     "data": {
      "text/html": [
       "<div>\n",
       "<style scoped>\n",
       "    .dataframe tbody tr th:only-of-type {\n",
       "        vertical-align: middle;\n",
       "    }\n",
       "\n",
       "    .dataframe tbody tr th {\n",
       "        vertical-align: top;\n",
       "    }\n",
       "\n",
       "    .dataframe thead th {\n",
       "        text-align: right;\n",
       "    }\n",
       "</style>\n",
       "<table border=\"1\" class=\"dataframe\">\n",
       "  <thead>\n",
       "    <tr style=\"text-align: right;\">\n",
       "      <th></th>\n",
       "      <th>Energy</th>\n",
       "      <th>Band Gap (eV)</th>\n",
       "      <th>Time</th>\n",
       "    </tr>\n",
       "    <tr>\n",
       "      <th>Basis set</th>\n",
       "      <th></th>\n",
       "      <th></th>\n",
       "      <th></th>\n",
       "    </tr>\n",
       "  </thead>\n",
       "  <tbody>\n",
       "    <tr>\n",
       "      <th>Mg_8-511G_harrison_1994 O_8-411_muscat_1999</th>\n",
       "      <td>-7.495E+03</td>\n",
       "      <td>7.076E+00</td>\n",
       "      <td>1.159E+01</td>\n",
       "    </tr>\n",
       "    <tr>\n",
       "      <th>Mg_8-511d1G_valenzano_2006 O_8-411d11G_valenzano_2006</th>\n",
       "      <td>-7.496E+03</td>\n",
       "      <td>7.241E+00</td>\n",
       "      <td>2.822E+01</td>\n",
       "    </tr>\n",
       "  </tbody>\n",
       "</table>\n",
       "</div>"
      ],
      "text/plain": [
       "                                                       Energy  Band Gap (eV)  \\\n",
       "Basis set                                                                      \n",
       "Mg_8-511G_harrison_1994 O_8-411_muscat_1999        -7.495E+03      7.076E+00   \n",
       "Mg_8-511d1G_valenzano_2006 O_8-411d11G_valenzan... -7.496E+03      7.241E+00   \n",
       "\n",
       "                                                        Time  \n",
       "Basis set                                                     \n",
       "Mg_8-511G_harrison_1994 O_8-411_muscat_1999        1.159E+01  \n",
       "Mg_8-511d1G_valenzano_2006 O_8-411d11G_valenzan... 2.822E+01  "
      ]
     },
     "metadata": {},
     "output_type": "display_data"
    }
   ],
   "source": [
    "#call the bs function to run the calcaulation/prepare the inputs/analyse the results\n",
    "#The final energy and band gap is saved as a Pandas dataframe (displayed in the cell below) and as a numpy array.\n",
    "if run != False:\n",
    "    energy_df, energy_arr = bs(directory,input_name,geom_block,func_block,scf_block,basis_set,spin_pol,run,clean)\n",
    "    display(energy_df)\n",
    "else:\n",
    "    display(bs(directory,input_name,geom_block,func_block,scf_block,basis_set,spin_pol,run,clean))"
   ]
  },
  {
   "cell_type": "markdown",
   "id": "arctic-beginning",
   "metadata": {},
   "source": [
    "The input and output files are saved as input_name_n (where input_name is the name of the input specified and n is a number)"
   ]
  }
 ],
 "metadata": {
  "kernelspec": {
   "display_name": "Python 3",
   "language": "python",
   "name": "python3"
  },
  "language_info": {
   "codemirror_mode": {
    "name": "ipython",
    "version": 3
   },
   "file_extension": ".py",
   "mimetype": "text/x-python",
   "name": "python",
   "nbconvert_exporter": "python",
   "pygments_lexer": "ipython3",
   "version": "3.9.2"
  }
 },
 "nbformat": 4,
 "nbformat_minor": 5
}
