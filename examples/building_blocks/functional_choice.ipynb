{
 "cells": [
  {
   "cell_type": "code",
   "execution_count": 1,
   "id": "unlimited-spoke",
   "metadata": {},
   "outputs": [],
   "source": [
    "import sys\n",
    "sys.path.insert(1, '../../functions/')\n",
    "\n",
    "from settings import runcry\n",
    "\n",
    "from crystal_io import read_input\n",
    "from crystal_io import write_input\n",
    "\n",
    "from extract_info import final_energy\n",
    "from extract_info import band_gap\n",
    "\n",
    "from settings import clean_wf\n",
    "\n",
    "import re\n",
    "import numpy as np\n",
    "import matplotlib.pyplot as plt\n",
    "from os.path import join\n",
    "import pandas as pd\n",
    "import time"
   ]
  },
  {
   "cell_type": "code",
   "execution_count": 2,
   "id": "adjusted-chile",
   "metadata": {},
   "outputs": [],
   "source": [
    "#directory where the input is saved\n",
    "directory = '../data' \n",
    "\n",
    "#name of the input (including the extension)\n",
    "input_name = 'mgo.d12' \n",
    "file_path = join(directory,input_name)\n",
    "\n",
    "#the functionals are specified as a list. If both correlation and exchange functionals are specified, \n",
    "#then this is given as a list of lists.\n",
    "functionals = [['PBE','PBE'],'B3LYP']\n",
    "\n",
    "#Specify if this is a spin polarised calculation\n",
    "spin_pol = False\n",
    "\n",
    "#Run the calculation? (True = run , False = only write the inputs, 'Analyse' = analyse results of a previous calculation)\n",
    "run = True\n",
    "\n",
    "#Delete the wave function files after running the calculation\n",
    "clean = True"
   ]
  },
  {
   "cell_type": "code",
   "execution_count": 3,
   "id": "secondary-activation",
   "metadata": {},
   "outputs": [],
   "source": [
    "#Read the input and store it in its several blocks\n",
    "geom_block,optgeom_block,bs_block,func_block,scf_block = read_input(file_path)"
   ]
  },
  {
   "cell_type": "code",
   "execution_count": 4,
   "id": "cordless-going",
   "metadata": {},
   "outputs": [],
   "source": [
    "#This is the function that runs the calculation (move to the following cell to analuyse the results)\n",
    "def fc(directory,input_name,geom_block,bs_block,func_block,scf_block,functionals,spin_pol,run,clean):\n",
    "    files_not_found = []\n",
    "    energy = []\n",
    "    for i,functional in enumerate(functionals): \n",
    "        if type(functional) == str:\n",
    "            input_convergence = join(directory,input_name[:-4]+'_%s.d12'%(functional))\n",
    "        elif type(functional) == list:   \n",
    "            input_convergence = join(directory,input_name[:-4]+'_%s_%s.d12'%(functional[0],functional[1]))  \n",
    "        if run != 'Analyse':\n",
    "            for j,line in enumerate(func_block):\n",
    "                if re.match(r'DFT',line): \n",
    "                    if 'SPIN' in func_block[j+1]: \n",
    "                        n = j+2\n",
    "                        spin_pol = True\n",
    "                    else:\n",
    "                        n = j+1\n",
    "                        spin_pol = False\n",
    "                    if type(functional) == str:\n",
    "                        func_block[n] = str(functional)+'\\n'\n",
    "                    elif type(functional) == list:\n",
    "                        func_block[n] = 'EXCHANGE\\n' + functional[0] + '\\n' + 'CORRELAT\\n' + functional[1] + '\\n'            \n",
    "            write_input(input_convergence,geom_block,bs_block,func_block,scf_block)\n",
    "        if run == True:\n",
    "            time_0 = time.time()\n",
    "            runcry(input_convergence[:-4])\n",
    "            time.sleep(3)\n",
    "            E_final = final_energy(input_convergence[:-3]+'out')\n",
    "            Band_gap = band_gap(input_convergence[:-3]+'out',spin_pol)\n",
    "            if type(E_final) == float:   \n",
    "                if type(functional) == str:\n",
    "                    energy.append([functional,float(E_final),float(Band_gap),time.time()-time_0]) \n",
    "                elif type(functional) == list:\n",
    "                    energy.append([functional[0]+'_'+functional[1],float(E_final),float(Band_gap),time.time()-time_0])\n",
    "            else:\n",
    "                if type(functional) == str:\n",
    "                    files_not_found.append(input_name[:-4]+'_%s.out'%(functional)) \n",
    "                elif type(functional) == list:\n",
    "                    files_not_found.append(input_name[:-4]+'_%s_%s.out'%(functional[0]+'_'+functional[1])) \n",
    "            if clean == True:\n",
    "                clean_wf(directory,input_convergence)\n",
    "        if run == 'Analyse':\n",
    "            E_final = final_energy(input_convergence[:-3]+'out')\n",
    "            Band_gap = band_gap(input_convergence[:-3]+'out',spin_pol)\n",
    "            if type(E_final) == float:   \n",
    "                if type(functional) == str:\n",
    "                    energy.append([functional,float(E_final),float(Band_gap)]) \n",
    "                elif type(functional) == list:\n",
    "                    energy.append([functional[0]+'_'+functional[1],float(E_final),float(Band_gap)])\n",
    "            else:\n",
    "                if type(functional) == str:\n",
    "                    files_not_found.append(input_name[:-4]+'_%s.out'%(functional)) \n",
    "                elif type(functional) == list:\n",
    "                    files_not_found.append(input_name[:-4]+'_%s_%s.out'%(functional[0]+'_'+functional[1])) \n",
    "                \n",
    "    if run == True:\n",
    "        energy_arr = np.array(energy)\n",
    "        energy_df = pd.DataFrame(energy, columns =['Functional','Energy','Band Gap (eV)','Time'])\n",
    "        energy_df.set_index('Functional', inplace=True)\n",
    "        pd.set_option('display.float_format', '{:.3E}'.format)\n",
    "    \n",
    "    if run == 'Analyse':\n",
    "        energy_arr = np.array(energy)\n",
    "        energy_df = pd.DataFrame(energy, columns =['Functional','Energy','Band Gap (eV)'])\n",
    "        energy_df.set_index('Functional', inplace=True)\n",
    "        pd.set_option('display.float_format', '{:.3E}'.format)\n",
    "        \n",
    "        if len(files_not_found) > 0:\n",
    "            print('The following outputs were not found: '+','.join(files_not_found))\n",
    "\n",
    "    if run != False:\n",
    "        return energy_df, energy_arr\n",
    "    else:\n",
    "        return 'Inputs saved'\n",
    "          "
   ]
  },
  {
   "cell_type": "markdown",
   "id": "suspected-laptop",
   "metadata": {},
   "source": [
    "### The result is in the cells below"
   ]
  },
  {
   "cell_type": "code",
   "execution_count": 5,
   "id": "narrative-inspector",
   "metadata": {},
   "outputs": [
    {
     "ename": "KeyboardInterrupt",
     "evalue": "",
     "output_type": "error",
     "traceback": [
      "\u001b[0;31m---------------------------------------------------------------------------\u001b[0m",
      "\u001b[0;31mKeyboardInterrupt\u001b[0m                         Traceback (most recent call last)",
      "\u001b[0;32m<ipython-input-5-7dc8199705c0>\u001b[0m in \u001b[0;36m<module>\u001b[0;34m\u001b[0m\n\u001b[1;32m      2\u001b[0m \u001b[0;31m#The final energy and band gap is saved as a Pandas dataframe (displayed in the cell below) and as a numpy array.\u001b[0m\u001b[0;34m\u001b[0m\u001b[0;34m\u001b[0m\u001b[0;34m\u001b[0m\u001b[0m\n\u001b[1;32m      3\u001b[0m \u001b[0;32mif\u001b[0m \u001b[0mrun\u001b[0m \u001b[0;34m!=\u001b[0m \u001b[0;32mFalse\u001b[0m\u001b[0;34m:\u001b[0m\u001b[0;34m\u001b[0m\u001b[0;34m\u001b[0m\u001b[0m\n\u001b[0;32m----> 4\u001b[0;31m     \u001b[0menergy_df\u001b[0m\u001b[0;34m,\u001b[0m \u001b[0menergy_arr\u001b[0m \u001b[0;34m=\u001b[0m \u001b[0mfc\u001b[0m\u001b[0;34m(\u001b[0m\u001b[0mdirectory\u001b[0m\u001b[0;34m,\u001b[0m\u001b[0minput_name\u001b[0m\u001b[0;34m,\u001b[0m\u001b[0mgeom_block\u001b[0m\u001b[0;34m,\u001b[0m\u001b[0mbs_block\u001b[0m\u001b[0;34m,\u001b[0m\u001b[0mfunc_block\u001b[0m\u001b[0;34m,\u001b[0m\u001b[0mscf_block\u001b[0m\u001b[0;34m,\u001b[0m\u001b[0mfunctionals\u001b[0m\u001b[0;34m,\u001b[0m\u001b[0mspin_pol\u001b[0m\u001b[0;34m,\u001b[0m\u001b[0mrun\u001b[0m\u001b[0;34m,\u001b[0m\u001b[0mclean\u001b[0m\u001b[0;34m)\u001b[0m\u001b[0;34m\u001b[0m\u001b[0;34m\u001b[0m\u001b[0m\n\u001b[0m\u001b[1;32m      5\u001b[0m \u001b[0;32melse\u001b[0m\u001b[0;34m:\u001b[0m\u001b[0;34m\u001b[0m\u001b[0;34m\u001b[0m\u001b[0m\n\u001b[1;32m      6\u001b[0m     \u001b[0mdisplay\u001b[0m\u001b[0;34m(\u001b[0m\u001b[0mfc\u001b[0m\u001b[0;34m(\u001b[0m\u001b[0mdirectory\u001b[0m\u001b[0;34m,\u001b[0m\u001b[0minput_name\u001b[0m\u001b[0;34m,\u001b[0m\u001b[0mgeom_block\u001b[0m\u001b[0;34m,\u001b[0m\u001b[0mbs_block\u001b[0m\u001b[0;34m,\u001b[0m\u001b[0mfunc_block\u001b[0m\u001b[0;34m,\u001b[0m\u001b[0mscf_block\u001b[0m\u001b[0;34m,\u001b[0m\u001b[0mfunctionals\u001b[0m\u001b[0;34m,\u001b[0m\u001b[0mspin_pol\u001b[0m\u001b[0;34m,\u001b[0m\u001b[0mrun\u001b[0m\u001b[0;34m,\u001b[0m\u001b[0mclean\u001b[0m\u001b[0;34m)\u001b[0m\u001b[0;34m)\u001b[0m\u001b[0;34m\u001b[0m\u001b[0;34m\u001b[0m\u001b[0m\n",
      "\u001b[0;32m<ipython-input-4-a7d3a07c4512>\u001b[0m in \u001b[0;36mfc\u001b[0;34m(directory, input_name, geom_block, bs_block, func_block, scf_block, functionals, spin_pol, run, clean)\u001b[0m\n\u001b[1;32m     25\u001b[0m             \u001b[0mtime_0\u001b[0m \u001b[0;34m=\u001b[0m \u001b[0mtime\u001b[0m\u001b[0;34m.\u001b[0m\u001b[0mtime\u001b[0m\u001b[0;34m(\u001b[0m\u001b[0;34m)\u001b[0m\u001b[0;34m\u001b[0m\u001b[0;34m\u001b[0m\u001b[0m\n\u001b[1;32m     26\u001b[0m             \u001b[0mruncry\u001b[0m\u001b[0;34m(\u001b[0m\u001b[0minput_convergence\u001b[0m\u001b[0;34m[\u001b[0m\u001b[0;34m:\u001b[0m\u001b[0;34m-\u001b[0m\u001b[0;36m4\u001b[0m\u001b[0;34m]\u001b[0m\u001b[0;34m)\u001b[0m\u001b[0;34m\u001b[0m\u001b[0;34m\u001b[0m\u001b[0m\n\u001b[0;32m---> 27\u001b[0;31m             \u001b[0mtime\u001b[0m\u001b[0;34m.\u001b[0m\u001b[0msleep\u001b[0m\u001b[0;34m(\u001b[0m\u001b[0;36m3\u001b[0m\u001b[0;34m)\u001b[0m\u001b[0;34m\u001b[0m\u001b[0;34m\u001b[0m\u001b[0m\n\u001b[0m\u001b[1;32m     28\u001b[0m             \u001b[0mE_final\u001b[0m \u001b[0;34m=\u001b[0m \u001b[0mfinal_energy\u001b[0m\u001b[0;34m(\u001b[0m\u001b[0minput_convergence\u001b[0m\u001b[0;34m[\u001b[0m\u001b[0;34m:\u001b[0m\u001b[0;34m-\u001b[0m\u001b[0;36m3\u001b[0m\u001b[0;34m]\u001b[0m\u001b[0;34m+\u001b[0m\u001b[0;34m'out'\u001b[0m\u001b[0;34m)\u001b[0m\u001b[0;34m\u001b[0m\u001b[0;34m\u001b[0m\u001b[0m\n\u001b[1;32m     29\u001b[0m             \u001b[0mBand_gap\u001b[0m \u001b[0;34m=\u001b[0m \u001b[0mband_gap\u001b[0m\u001b[0;34m(\u001b[0m\u001b[0minput_convergence\u001b[0m\u001b[0;34m[\u001b[0m\u001b[0;34m:\u001b[0m\u001b[0;34m-\u001b[0m\u001b[0;36m3\u001b[0m\u001b[0;34m]\u001b[0m\u001b[0;34m+\u001b[0m\u001b[0;34m'out'\u001b[0m\u001b[0;34m,\u001b[0m\u001b[0mspin_pol\u001b[0m\u001b[0;34m)\u001b[0m\u001b[0;34m\u001b[0m\u001b[0;34m\u001b[0m\u001b[0m\n",
      "\u001b[0;31mKeyboardInterrupt\u001b[0m: "
     ]
    }
   ],
   "source": [
    "#call the fc function to run the calcaulation/prepare the inputs/analyse the results\n",
    "#The final energy and band gap is saved as a Pandas dataframe (displayed in the cell below) and as a numpy array.\n",
    "if run != False:\n",
    "    energy_df, energy_arr = fc(directory,input_name,geom_block,bs_block,func_block,scf_block,functionals,spin_pol,run,clean)\n",
    "else:\n",
    "    display(fc(directory,input_name,geom_block,bs_block,func_block,scf_block,functionals,spin_pol,run,clean))"
   ]
  }
 ],
 "metadata": {
  "kernelspec": {
   "display_name": "Python 3",
   "language": "python",
   "name": "python3"
  },
  "language_info": {
   "codemirror_mode": {
    "name": "ipython",
    "version": 3
   },
   "file_extension": ".py",
   "mimetype": "text/x-python",
   "name": "python",
   "nbconvert_exporter": "python",
   "pygments_lexer": "ipython3",
   "version": "3.9.6"
  }
 },
 "nbformat": 4,
 "nbformat_minor": 5
}
