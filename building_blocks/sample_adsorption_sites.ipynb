{
 "cells": [
  {
   "cell_type": "markdown",
   "id": "underlying-thriller",
   "metadata": {},
   "source": [
    "- select only the lower energy value for each xy\n",
    "- plot "
   ]
  },
  {
   "cell_type": "code",
   "execution_count": 15,
   "id": "varied-sacrifice",
   "metadata": {},
   "outputs": [],
   "source": [
    "import sys\n",
    "sys.path.insert(1, '../functions')\n",
    "from extract_info import final_energy\n",
    "from extract_info import fermi_energy\n",
    "from extract_info import band_gap\n",
    "import numpy as np\n",
    "from plotting import plot_es\n",
    "from plotting import plot_bs\n",
    "from plotting import compare_bs\n",
    "from plotting import compare_es\n",
    "from visualisation_tools import gui2cif\n",
    "from visualisation_tools import gui2cif \n",
    "from crystal_io import read_input\n",
    "from crystal_io import write_input\n",
    "from crystal_io import extract_last_geom\n",
    "from plotting import plot_bands\n",
    "from plotting import plot_dos\n",
    "from extract_info import final_energy\n",
    "from geom_modification import make_supercell \n",
    "from geom_modification import insert_atom\n",
    "from geom_modification import substitute_atom\n",
    "from geom_modification import displace_atom\n",
    "from geom_modification import remove_atom\n",
    "\n",
    "import matplotlib.pyplot as plt"
   ]
  },
  {
   "cell_type": "code",
   "execution_count": 34,
   "id": "native-cigarette",
   "metadata": {},
   "outputs": [],
   "source": [
    "def sample_surface(a,b,z,n_points,shifts=1):\n",
    "    #a=[1,0]\n",
    "    #b=[0,1]\n",
    "    import matplotlib.pyplot as plt\n",
    "    step = 1./n_points\n",
    "    x = np.arange(0, 1, step)\n",
    "    y = np.arange(0, 1, step)\n",
    "    xx, yy = np.meshgrid(x, y, sparse=False)\n",
    "    index = -1\n",
    "    coordinates = []\n",
    "    odd = np.arange(0,2.1,0.1)\n",
    "    even = np.arange(0.05,2.,0.1)\n",
    "    if shifts%2 == 0:\n",
    "        z_coord = even[(len(even)//2-shifts//2):(len(even)//2+shifts//2)]*z\n",
    "    else:\n",
    "        z_coord = odd[(len(odd)//2-shifts//2):(len(odd)//2+shifts//2)+1]*z    \n",
    "    for i in range(xx.shape[0]):\n",
    "        for j in range(xx.shape[1]):\n",
    "            for s in range(shifts):\n",
    "                index += 1\n",
    "                xx[i,j] = xx[i,j]*a[0]+yy[i,j]*b[0]\n",
    "                yy[i,j] = xx[i,j]*a[1]+yy[i,j]*b[1]\n",
    "                \n",
    "                coordinates.append([' '.join([str(xx[i,j]),str(yy[i,j]),str(z_coord[s])])])\n",
    "            print(xx[i,j],yy[i,j])\n",
    "    #plt.plot(xx,yy,'*');\n",
    "\n",
    "    return coordinates"
   ]
  },
  {
   "cell_type": "code",
   "execution_count": 42,
   "id": "multiple-merit",
   "metadata": {},
   "outputs": [
    {
     "name": "stdout",
     "output_type": "stream",
     "text": [
      "0.0 0.0\n",
      "0.2 0.0\n",
      "0.4 0.0\n",
      "0.6000000000000001 0.0\n",
      "0.8 0.0\n",
      "0.0 1.6\n",
      "0.2 1.6\n",
      "0.4 1.6\n",
      "0.6000000000000001 1.6\n",
      "0.8 1.6\n",
      "0.0 3.2\n",
      "0.2 3.2\n",
      "0.4 3.2\n",
      "0.6000000000000001 3.2\n",
      "0.8 3.2\n",
      "0.0 4.800000000000001\n",
      "0.2 4.800000000000001\n",
      "0.4 4.800000000000001\n",
      "0.6000000000000001 4.800000000000001\n",
      "0.8 4.800000000000001\n",
      "0.0 6.4\n",
      "0.2 6.4\n",
      "0.4 6.4\n",
      "0.6000000000000001 6.4\n",
      "0.8 6.4\n"
     ]
    }
   ],
   "source": [
    "a=[2.18134072539 , -1.25939765500]\n",
    "b=[0.0, 2.51879531000]\n",
    "a=[1,0]\n",
    "b=[0,2]\n",
    "z= 2.4\n",
    "n_points = 5\n",
    "n_shifts = 3\n",
    "coordinates = sample_surface(a,b,z,n_points,n_shifts)\n",
    "for i in range(len(coordinates)):\n",
    "    geom_block,optgeom_block,bs_block,func_block,scf_block = read_input('../data/spin/BN_spin.d12')\n",
    "    geom_block,scf_block = make_supercell(geom_block,scf_block,[3,0,0,3])        \n",
    "    input_name = '../data/sample_surface/BN3x3_SA_%s_%s.d12' % (i//n_shifts,i%n_shifts)\n",
    "    geom_block = insert_atom(geom_block,['29'],coordinates[i])\n",
    "    write_input(input_name,geom_block,bs_block,func_block,scf_block)\n",
    "    file = open('../data/sample_surface/BN3x3_SS.qsub', 'r')\n",
    "    data = file.readlines()\n",
    "    file.close()\n",
    "    data[34] = '/rds/general/user/gmallia/home/CRYSTAL17_cx1/v2.2gnu/runcryP '+ input_name[5:-4]+'\\n'\n",
    "    data[35] = 'qsub BN3x3_SS_%s.qsub' % (str(i+1))+'\\n'\n",
    "    with open('../data/sample_surface/BN3x3_SS_%s.qsub'%(i), 'w') as file:\n",
    "        for line in data:\n",
    "            file.writelines(line)"
   ]
  },
  {
   "cell_type": "code",
   "execution_count": 22,
   "id": "assured-foster",
   "metadata": {},
   "outputs": [
    {
     "data": {
      "text/plain": [
       "array([-64137.7677061 , -64137.84043364, -64137.82416247, -64137.76041202,\n",
       "       -64137.81156038, -64137.81690218, -64137.770119  , -64137.81511285,\n",
       "       -64137.8165193 , -64137.76006562, -64137.83221792, -64137.81345173,\n",
       "       -64137.74338671, -64137.82997388, -64137.81061282, -64137.83143697,\n",
       "       -64137.81715547, -64137.76125058, -64137.7652703 , -64137.81671759,\n",
       "       -64137.75079357, -64137.81699081, -64137.75625886, -64137.81570908,\n",
       "       -64137.81474152, -64137.74399962, -64137.81476437, -64137.8163679 ,\n",
       "       -64137.83234806, -64137.75700446, -64137.83028326, -64137.82073302,\n",
       "       -64137.75625933, -64137.81982471, -64137.83149959, -64137.816025  ,\n",
       "       -64137.7530811 , -64137.73974786, -64137.82279985, -64137.8105435 ,\n",
       "       -64137.74930731, -64137.75508438, -64137.82079301, -64137.81988517,\n",
       "       -64137.81507428, -64137.81791795, -64137.7426477 , -64137.8323732 ,\n",
       "       -64137.81387979, -64137.83056954, -64137.81273657])"
      ]
     },
     "execution_count": 22,
     "metadata": {},
     "output_type": "execute_result"
    }
   ],
   "source": [
    "import re\n",
    "position_x = []\n",
    "position_y = []\n",
    "shift = []\n",
    "energy = []\n",
    "for i in range(25):\n",
    "    for j in range(3):\n",
    "        with open('../data/sample_surface/BN3x3_SA_%s_%s.out' %(i,j)) as file:\n",
    "            data = file.readlines()\n",
    "        for n,l in enumerate(data):\n",
    "            if re.match(r'^ATOMINSE',l):\n",
    "                position_x = float(data[n+2].split()[1])\n",
    "                position_y = float(data[n+2].split()[2])\n",
    "        E_final = final_energy('../data/sample_surface/BN3x3_SA_%s_%s.out' %(i,j))\n",
    "        if type(E_final) == float:\n",
    "            energy.append([position_x, position_y,E_final])\n",
    "energy = np.array(energy)\n",
    "energy[:,2]"
   ]
  },
  {
   "cell_type": "code",
   "execution_count": 19,
   "id": "assumed-monroe",
   "metadata": {},
   "outputs": [
    {
     "ename": "ValueError",
     "evalue": "not enough values to unpack (expected 2, got 1)",
     "output_type": "error",
     "traceback": [
      "\u001b[0;31m---------------------------------------------------------------------------\u001b[0m",
      "\u001b[0;31mValueError\u001b[0m                                Traceback (most recent call last)",
      "\u001b[0;32m<ipython-input-19-797df2114cfb>\u001b[0m in \u001b[0;36m<module>\u001b[0;34m\u001b[0m\n\u001b[0;32m----> 1\u001b[0;31m \u001b[0mplt\u001b[0m\u001b[0;34m.\u001b[0m\u001b[0mpcolor\u001b[0m\u001b[0;34m(\u001b[0m\u001b[0menergy\u001b[0m\u001b[0;34m[\u001b[0m\u001b[0;34m:\u001b[0m\u001b[0;34m,\u001b[0m\u001b[0;36m0\u001b[0m\u001b[0;34m]\u001b[0m\u001b[0;34m,\u001b[0m \u001b[0menergy\u001b[0m\u001b[0;34m[\u001b[0m\u001b[0;34m:\u001b[0m\u001b[0;34m,\u001b[0m\u001b[0;36m1\u001b[0m\u001b[0;34m]\u001b[0m\u001b[0;34m,\u001b[0m \u001b[0menergy\u001b[0m\u001b[0;34m[\u001b[0m\u001b[0;34m:\u001b[0m\u001b[0;34m,\u001b[0m\u001b[0;36m2\u001b[0m\u001b[0;34m]\u001b[0m\u001b[0;34m)\u001b[0m\u001b[0;34m\u001b[0m\u001b[0;34m\u001b[0m\u001b[0m\n\u001b[0m",
      "\u001b[0;32m~/miniconda3/envs/cc/lib/python3.9/site-packages/matplotlib/pyplot.py\u001b[0m in \u001b[0;36mpcolor\u001b[0;34m(shading, alpha, norm, cmap, vmin, vmax, data, *args, **kwargs)\u001b[0m\n\u001b[1;32m   2785\u001b[0m         \u001b[0;34m*\u001b[0m\u001b[0margs\u001b[0m\u001b[0;34m,\u001b[0m \u001b[0mshading\u001b[0m\u001b[0;34m=\u001b[0m\u001b[0;32mNone\u001b[0m\u001b[0;34m,\u001b[0m \u001b[0malpha\u001b[0m\u001b[0;34m=\u001b[0m\u001b[0;32mNone\u001b[0m\u001b[0;34m,\u001b[0m \u001b[0mnorm\u001b[0m\u001b[0;34m=\u001b[0m\u001b[0;32mNone\u001b[0m\u001b[0;34m,\u001b[0m \u001b[0mcmap\u001b[0m\u001b[0;34m=\u001b[0m\u001b[0;32mNone\u001b[0m\u001b[0;34m,\u001b[0m\u001b[0;34m\u001b[0m\u001b[0;34m\u001b[0m\u001b[0m\n\u001b[1;32m   2786\u001b[0m         vmin=None, vmax=None, data=None, **kwargs):\n\u001b[0;32m-> 2787\u001b[0;31m     __ret = gca().pcolor(\n\u001b[0m\u001b[1;32m   2788\u001b[0m         \u001b[0;34m*\u001b[0m\u001b[0margs\u001b[0m\u001b[0;34m,\u001b[0m \u001b[0mshading\u001b[0m\u001b[0;34m=\u001b[0m\u001b[0mshading\u001b[0m\u001b[0;34m,\u001b[0m \u001b[0malpha\u001b[0m\u001b[0;34m=\u001b[0m\u001b[0malpha\u001b[0m\u001b[0;34m,\u001b[0m \u001b[0mnorm\u001b[0m\u001b[0;34m=\u001b[0m\u001b[0mnorm\u001b[0m\u001b[0;34m,\u001b[0m \u001b[0mcmap\u001b[0m\u001b[0;34m=\u001b[0m\u001b[0mcmap\u001b[0m\u001b[0;34m,\u001b[0m\u001b[0;34m\u001b[0m\u001b[0;34m\u001b[0m\u001b[0m\n\u001b[1;32m   2789\u001b[0m         \u001b[0mvmin\u001b[0m\u001b[0;34m=\u001b[0m\u001b[0mvmin\u001b[0m\u001b[0;34m,\u001b[0m \u001b[0mvmax\u001b[0m\u001b[0;34m=\u001b[0m\u001b[0mvmax\u001b[0m\u001b[0;34m,\u001b[0m\u001b[0;34m\u001b[0m\u001b[0;34m\u001b[0m\u001b[0m\n",
      "\u001b[0;32m~/miniconda3/envs/cc/lib/python3.9/site-packages/matplotlib/__init__.py\u001b[0m in \u001b[0;36minner\u001b[0;34m(ax, data, *args, **kwargs)\u001b[0m\n\u001b[1;32m   1445\u001b[0m     \u001b[0;32mdef\u001b[0m \u001b[0minner\u001b[0m\u001b[0;34m(\u001b[0m\u001b[0max\u001b[0m\u001b[0;34m,\u001b[0m \u001b[0;34m*\u001b[0m\u001b[0margs\u001b[0m\u001b[0;34m,\u001b[0m \u001b[0mdata\u001b[0m\u001b[0;34m=\u001b[0m\u001b[0;32mNone\u001b[0m\u001b[0;34m,\u001b[0m \u001b[0;34m**\u001b[0m\u001b[0mkwargs\u001b[0m\u001b[0;34m)\u001b[0m\u001b[0;34m:\u001b[0m\u001b[0;34m\u001b[0m\u001b[0;34m\u001b[0m\u001b[0m\n\u001b[1;32m   1446\u001b[0m         \u001b[0;32mif\u001b[0m \u001b[0mdata\u001b[0m \u001b[0;32mis\u001b[0m \u001b[0;32mNone\u001b[0m\u001b[0;34m:\u001b[0m\u001b[0;34m\u001b[0m\u001b[0;34m\u001b[0m\u001b[0m\n\u001b[0;32m-> 1447\u001b[0;31m             \u001b[0;32mreturn\u001b[0m \u001b[0mfunc\u001b[0m\u001b[0;34m(\u001b[0m\u001b[0max\u001b[0m\u001b[0;34m,\u001b[0m \u001b[0;34m*\u001b[0m\u001b[0mmap\u001b[0m\u001b[0;34m(\u001b[0m\u001b[0msanitize_sequence\u001b[0m\u001b[0;34m,\u001b[0m \u001b[0margs\u001b[0m\u001b[0;34m)\u001b[0m\u001b[0;34m,\u001b[0m \u001b[0;34m**\u001b[0m\u001b[0mkwargs\u001b[0m\u001b[0;34m)\u001b[0m\u001b[0;34m\u001b[0m\u001b[0;34m\u001b[0m\u001b[0m\n\u001b[0m\u001b[1;32m   1448\u001b[0m \u001b[0;34m\u001b[0m\u001b[0m\n\u001b[1;32m   1449\u001b[0m         \u001b[0mbound\u001b[0m \u001b[0;34m=\u001b[0m \u001b[0mnew_sig\u001b[0m\u001b[0;34m.\u001b[0m\u001b[0mbind\u001b[0m\u001b[0;34m(\u001b[0m\u001b[0max\u001b[0m\u001b[0;34m,\u001b[0m \u001b[0;34m*\u001b[0m\u001b[0margs\u001b[0m\u001b[0;34m,\u001b[0m \u001b[0;34m**\u001b[0m\u001b[0mkwargs\u001b[0m\u001b[0;34m)\u001b[0m\u001b[0;34m\u001b[0m\u001b[0;34m\u001b[0m\u001b[0m\n",
      "\u001b[0;32m~/miniconda3/envs/cc/lib/python3.9/site-packages/matplotlib/axes/_axes.py\u001b[0m in \u001b[0;36mpcolor\u001b[0;34m(self, shading, alpha, norm, cmap, vmin, vmax, *args, **kwargs)\u001b[0m\n\u001b[1;32m   5819\u001b[0m             \u001b[0mshading\u001b[0m \u001b[0;34m=\u001b[0m \u001b[0mrcParams\u001b[0m\u001b[0;34m[\u001b[0m\u001b[0;34m'pcolor.shading'\u001b[0m\u001b[0;34m]\u001b[0m\u001b[0;34m\u001b[0m\u001b[0;34m\u001b[0m\u001b[0m\n\u001b[1;32m   5820\u001b[0m         \u001b[0mshading\u001b[0m \u001b[0;34m=\u001b[0m \u001b[0mshading\u001b[0m\u001b[0;34m.\u001b[0m\u001b[0mlower\u001b[0m\u001b[0;34m(\u001b[0m\u001b[0;34m)\u001b[0m\u001b[0;34m\u001b[0m\u001b[0;34m\u001b[0m\u001b[0m\n\u001b[0;32m-> 5821\u001b[0;31m         X, Y, C, shading = self._pcolorargs('pcolor', *args, shading=shading,\n\u001b[0m\u001b[1;32m   5822\u001b[0m                                             kwargs=kwargs)\n\u001b[1;32m   5823\u001b[0m         \u001b[0mNy\u001b[0m\u001b[0;34m,\u001b[0m \u001b[0mNx\u001b[0m \u001b[0;34m=\u001b[0m \u001b[0mX\u001b[0m\u001b[0;34m.\u001b[0m\u001b[0mshape\u001b[0m\u001b[0;34m\u001b[0m\u001b[0;34m\u001b[0m\u001b[0m\n",
      "\u001b[0;32m~/miniconda3/envs/cc/lib/python3.9/site-packages/matplotlib/axes/_axes.py\u001b[0m in \u001b[0;36m_pcolorargs\u001b[0;34m(self, funcname, shading, *args, **kwargs)\u001b[0m\n\u001b[1;32m   5583\u001b[0m                 \u001b[0;32mif\u001b[0m \u001b[0misinstance\u001b[0m\u001b[0;34m(\u001b[0m\u001b[0mY\u001b[0m\u001b[0;34m,\u001b[0m \u001b[0mnp\u001b[0m\u001b[0;34m.\u001b[0m\u001b[0mma\u001b[0m\u001b[0;34m.\u001b[0m\u001b[0mcore\u001b[0m\u001b[0;34m.\u001b[0m\u001b[0mMaskedArray\u001b[0m\u001b[0;34m)\u001b[0m\u001b[0;34m:\u001b[0m\u001b[0;34m\u001b[0m\u001b[0;34m\u001b[0m\u001b[0m\n\u001b[1;32m   5584\u001b[0m                     \u001b[0mY\u001b[0m \u001b[0;34m=\u001b[0m \u001b[0mY\u001b[0m\u001b[0;34m.\u001b[0m\u001b[0mdata\u001b[0m\u001b[0;34m\u001b[0m\u001b[0;34m\u001b[0m\u001b[0m\n\u001b[0;32m-> 5585\u001b[0;31m             \u001b[0mnrows\u001b[0m\u001b[0;34m,\u001b[0m \u001b[0mncols\u001b[0m \u001b[0;34m=\u001b[0m \u001b[0mC\u001b[0m\u001b[0;34m.\u001b[0m\u001b[0mshape\u001b[0m\u001b[0;34m\u001b[0m\u001b[0;34m\u001b[0m\u001b[0m\n\u001b[0m\u001b[1;32m   5586\u001b[0m         \u001b[0;32melse\u001b[0m\u001b[0;34m:\u001b[0m\u001b[0;34m\u001b[0m\u001b[0;34m\u001b[0m\u001b[0m\n\u001b[1;32m   5587\u001b[0m             raise TypeError(f'{funcname}() takes 1 or 3 positional arguments '\n",
      "\u001b[0;31mValueError\u001b[0m: not enough values to unpack (expected 2, got 1)"
     ]
    },
    {
     "data": {
      "image/png": "[encoded data removed]",
      "text/plain": [
       "<Figure size 432x288 with 1 Axes>"
      ]
     },
     "metadata": {
      "needs_background": "light"
     },
     "output_type": "display_data"
    }
   ],
   "source": [
    "plt.pcolor(, energy[:,1], energy[:,2])"
   ]
  }
 ],
 "metadata": {
  "kernelspec": {
   "display_name": "Python 3",
   "language": "python",
   "name": "python3"
  },
  "language_info": {
   "codemirror_mode": {
    "name": "ipython",
    "version": 3
   },
   "file_extension": ".py",
   "mimetype": "text/x-python",
   "name": "python",
   "nbconvert_exporter": "python",
   "pygments_lexer": "ipython3",
   "version": "3.9.2"
  }
 },
 "nbformat": 4,
 "nbformat_minor": 5
}
