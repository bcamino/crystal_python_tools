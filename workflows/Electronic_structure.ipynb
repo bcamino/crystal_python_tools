{
 "cells": [
  {
   "cell_type": "markdown",
   "id": "negative-posting",
   "metadata": {},
   "source": [
    "# Workflow to calculate the electronic properties"
   ]
  },
  {
   "cell_type": "markdown",
   "id": "brutal-agency",
   "metadata": {},
   "source": [
    "This notebook provides the workflow for:\n",
    "\n",
    "- geometry optimisation\n",
    "- calculation of the DOS and band structures\n",
    "- display of the electronic structure\n",
    "- comparison of two structures (to be used if two systems, such as a pure material and a doped one are being studied in order to see the effect of the structural modification on the electronic structure)\n",
    "\n",
    "For help with this notebook please refer to the [example notebook](../examples/workflows/Electronic_structure.ipynb).\n"
   ]
  },
  {
   "cell_type": "code",
   "execution_count": null,
   "id": "seasonal-flooring",
   "metadata": {},
   "outputs": [],
   "source": [
    "#Import system \n",
    "import sys\n",
    "sys.path.insert(1, '../functions/') \n",
    "sys.path.insert(1, '../')\n",
    "import nbimporter\n",
    "from os.path import join\n",
    "\n",
    "#Import functions\n",
    "from crystal_io import read_input\n",
    "from settings import runcry\n",
    "from settings import runprop\n",
    "from settings import vesta\n",
    "from visualisation_tools import gui2cif\n",
    "from plotting import plot_bs\n",
    "from plotting import plot_doss\n",
    "from plotting import plot_es\n",
    "from plotting import compare_bs\n",
    "from plotting import compare_es\n",
    "\n",
    "import re\n",
    "import numpy as np\n",
    "import pandas as pd\n",
    "\n",
    "from ase.io.crystal import read_crystal\n",
    "from ase.visualize import view\n",
    "from ase.visualize.plot import plot_atoms\n",
    "import matplotlib.pyplot as plt\n",
    "from IPython.display import Javascript"
   ]
  },
  {
   "cell_type": "markdown",
   "id": "substantial-arbitration",
   "metadata": {},
   "source": [
    "### Setting the variables"
   ]
  },
  {
   "cell_type": "code",
   "execution_count": null,
   "id": "contrary-things",
   "metadata": {},
   "outputs": [],
   "source": [
    "#Variables used in the whole notebook\n",
    "# directory where the original input is saved\n",
    "directory = \n",
    "# name of the original input\n",
    "input_name = \n",
    "file_path = join(directory,input_name)\n",
    "\n",
    "#Band structure calculation\n",
    "band_input_name = \n",
    "band_file_path = join(directory,band_input_name)\n",
    "bands_file_path = join(directory,band_input_name+'_dat.BAND')\n",
    "\n",
    "#k point path. For example ['G','X','L','G','W']\n",
    "k_labels = \n",
    "\n",
    "#Bands energy range\n",
    "energy_range = \n",
    "\n",
    "#Band structure title\n",
    "title_bs =  \n",
    "\n",
    "#DOS calculation\n",
    "dos_input_name = \n",
    "dos_file_path = join(directory,dos_input_name)\n",
    "doss_file_path = join(directory,dos_input_name+'_dat.DOSS')\n",
    "\n",
    "#DOS labels. FOr example ['Mg','O','Total DOS']\n",
    "dos_labels = \n",
    "\n",
    "#DOS plot title\n",
    "title_dos = \n",
    "\n",
    "#Electronic structure title\n",
    "title_es = \n",
    "\n",
    "#Compare electronic structure?\n",
    "compare = True\n",
    "\n",
    "#Please DO NOT modify the line below\n",
    "if compare == True:\n",
    "    Javascript(\"Jupyter.notebook.execute_cells([5])\")"
   ]
  },
  {
   "cell_type": "code",
   "execution_count": null,
   "id": "productive-clark",
   "metadata": {},
   "outputs": [],
   "source": [
    "#Variables used when comparing two calculations (no need to fill this cell otherwise)\n",
    "\n",
    "# directory where the original input is saved\n",
    "directory2 = \n",
    "# name of the original input\n",
    "input_name2 =  \n",
    "file_path2 = join(directory2,input_name2)\n",
    "\n",
    "#Additional band structure\n",
    "band_input_name2 = \n",
    "band_file_path2 = join(directory2,band_input_name2)\n",
    "bands_file_path2 = join(directory2,band_input_name2+'_dat.BAND')\n",
    "\n",
    "#Additional DOS\n",
    "dos_input_name2 = \n",
    "dos_file_path2 = join(directory2,dos_input_name2)\n",
    "doss_file_path2 = join(directory2,dos_input_name2+'_dat.DOSS')\n",
    "dos_labels2 = "
   ]
  },
  {
   "cell_type": "markdown",
   "id": "technological-kingston",
   "metadata": {},
   "source": [
    "## Optimise the structure"
   ]
  },
  {
   "cell_type": "code",
   "execution_count": null,
   "id": "meaningful-kelly",
   "metadata": {},
   "outputs": [],
   "source": [
    "runcry(file_path)"
   ]
  },
  {
   "cell_type": "code",
   "execution_count": null,
   "id": "architectural-score",
   "metadata": {},
   "outputs": [],
   "source": [
    "if compare == True:\n",
    "    runcry(file_path2)"
   ]
  },
  {
   "cell_type": "markdown",
   "id": "hundred-kernel",
   "metadata": {},
   "source": [
    "## Band structure calculation"
   ]
  },
  {
   "cell_type": "code",
   "execution_count": null,
   "id": "established-action",
   "metadata": {},
   "outputs": [],
   "source": [
    "runprop(band_file_path,file_path)"
   ]
  },
  {
   "cell_type": "code",
   "execution_count": null,
   "id": "floral-accessory",
   "metadata": {},
   "outputs": [],
   "source": [
    "if compare == True:\n",
    "    runprop(band_file_path2,file_path2)"
   ]
  },
  {
   "cell_type": "markdown",
   "id": "minus-midnight",
   "metadata": {},
   "source": [
    "## Density of States (DOS) calculation"
   ]
  },
  {
   "cell_type": "code",
   "execution_count": null,
   "id": "pretty-print",
   "metadata": {},
   "outputs": [],
   "source": [
    "runprop(dos_file_path,file_path)"
   ]
  },
  {
   "cell_type": "code",
   "execution_count": null,
   "id": "prescribed-mauritius",
   "metadata": {},
   "outputs": [],
   "source": [
    "if compare == True:\n",
    "    runprop(dos_file_path2,file_path2)"
   ]
  },
  {
   "cell_type": "markdown",
   "id": "mediterranean-pendant",
   "metadata": {},
   "source": [
    "## Visualise the structure"
   ]
  },
  {
   "cell_type": "markdown",
   "id": "uniform-brush",
   "metadata": {},
   "source": [
    "### Vesta\n",
    "In order to visualise the structure through VESTA, the keword 'EXTPRT' must be included at the end of the geom_block"
   ]
  },
  {
   "cell_type": "code",
   "execution_count": null,
   "id": "short-procurement",
   "metadata": {},
   "outputs": [],
   "source": [
    "gui2cif(file_path+'.gui')\n",
    "cif_file_name = file_path+'.cif'\n",
    "vesta(cif_file_name)"
   ]
  },
  {
   "cell_type": "markdown",
   "id": "subject-spider",
   "metadata": {},
   "source": [
    "### ASE view"
   ]
  },
  {
   "cell_type": "code",
   "execution_count": null,
   "id": "religious-fruit",
   "metadata": {},
   "outputs": [],
   "source": [
    "gui_file_name = file_path+'.gui'\n",
    "atoms = read_crystal(gui_file_name)\n",
    "view(atoms, viewer='x3d')"
   ]
  },
  {
   "cell_type": "markdown",
   "id": "apparent-mortgage",
   "metadata": {},
   "source": [
    "### Matplotlib"
   ]
  },
  {
   "cell_type": "code",
   "execution_count": null,
   "id": "mighty-devices",
   "metadata": {},
   "outputs": [],
   "source": [
    "gui_file_name = file_path+'.gui'\n",
    "atoms = read_crystal(gui_file_name)\n",
    "fig, ax = plt.subplots()\n",
    "plot_atoms(atoms, ax, radii=0.3, rotation=('90x,90y,90z'))"
   ]
  },
  {
   "cell_type": "markdown",
   "id": "compliant-ownership",
   "metadata": {},
   "source": [
    "## Electronic structure"
   ]
  },
  {
   "cell_type": "markdown",
   "id": "instant-affiliation",
   "metadata": {},
   "source": [
    "### Band structure"
   ]
  },
  {
   "cell_type": "code",
   "execution_count": null,
   "id": "supposed-dream",
   "metadata": {},
   "outputs": [],
   "source": [
    "plot_bs(bands_file_path,k_labels,energy_range,title_bs,not_scaled=False)"
   ]
  },
  {
   "cell_type": "markdown",
   "id": "foreign-environment",
   "metadata": {},
   "source": [
    "### DOS"
   ]
  },
  {
   "cell_type": "code",
   "execution_count": null,
   "id": "reserved-trailer",
   "metadata": {},
   "outputs": [],
   "source": [
    "plot_doss(doss_file_path,energy_range,dos_labels,title=False,not_scaled=False)"
   ]
  },
  {
   "cell_type": "markdown",
   "id": "considered-triumph",
   "metadata": {},
   "source": [
    "### Band structure + DOS"
   ]
  },
  {
   "cell_type": "code",
   "execution_count": null,
   "id": "several-torture",
   "metadata": {},
   "outputs": [],
   "source": [
    "plot_es(bands_file_path,doss_file_path,k_labels,energy_range,dos_labels,title_bs,not_scaled=False)"
   ]
  },
  {
   "cell_type": "markdown",
   "id": "oriental-hundred",
   "metadata": {},
   "source": [
    "### Compare band structures"
   ]
  },
  {
   "cell_type": "code",
   "execution_count": null,
   "id": "partial-configuration",
   "metadata": {
    "scrolled": false
   },
   "outputs": [],
   "source": [
    "compare_bs(bands_file_path, bands_file_path2, k_labels, energy_range, not_scaled=False)"
   ]
  },
  {
   "cell_type": "markdown",
   "id": "spanish-james",
   "metadata": {},
   "source": [
    "### Compare electronic structures"
   ]
  },
  {
   "cell_type": "code",
   "execution_count": null,
   "id": "surgical-defense",
   "metadata": {},
   "outputs": [],
   "source": [
    "compare_es(bands_file_path, bands_file_path2, doss_file_path, doss_file_path2, k_labels, energy_range,not_scaled=False)"
   ]
  }
 ],
 "metadata": {
  "kernelspec": {
   "display_name": "Python 3",
   "language": "python",
   "name": "python3"
  },
  "language_info": {
   "codemirror_mode": {
    "name": "ipython",
    "version": 3
   },
   "file_extension": ".py",
   "mimetype": "text/x-python",
   "name": "python",
   "nbconvert_exporter": "python",
   "pygments_lexer": "ipython3",
   "version": "3.9.2"
  }
 },
 "nbformat": 4,
 "nbformat_minor": 5
}
