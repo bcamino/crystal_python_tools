{
 "cells": [
  {
   "cell_type": "markdown",
   "id": "eleven-magazine",
   "metadata": {},
   "source": [
    "## Surface projected bulk band structure\n",
    "\n",
    "This notebook allows you to generate the surface projected bulk band structure (spbs) of any material. The theory of spbs can be found in the <a href='https://doi.org/10.25560/45464'>Appendix 1 of Bruno Camino's PhD Thesis</a>.\n",
    "Steps to generate the spbs:\n",
    "- run a bulk calculation with the ROTATE keyword (please see ../data/spbs/si.d12 for an example). The ROTATE option, followed by the Miller indeces of the desired surface, rotates the primitive cell in order to have two lattice vectors on the plane specified\n",
    "- in the cell below specify the k point path containing high symmetry k points for the surface\n",
    "\n",
    "The script will generate the inputs to scan along the direction $\\perp$ to the surface. If run\n",
    "- Write the inputs in terms of shrinking factor\n",
    "- Scan along the direction $\\perp$ to the surface\n",
    "- Plot the bands and shade the area between bands\n",
    "\n",
    "For details about the variables that the <b>plot_bands</b> function accepts please refer to the [last cell](#details) of this notebook.\n",
    "\n",
    "For help with this notebook please refer to the [example notebook](../examples/workflows/Spbs.ipynb).\n"
   ]
  },
  {
   "cell_type": "code",
   "execution_count": null,
   "id": "mental-tongue",
   "metadata": {},
   "outputs": [],
   "source": [
    "import sys\n",
    "sys.path.insert(1, '../functions')\n",
    "from os.path import join\n",
    "\n",
    "from spbs import plot_spbs"
   ]
  },
  {
   "cell_type": "markdown",
   "id": "preliminary-brick",
   "metadata": {},
   "source": [
    "## Surface projected band structure"
   ]
  },
  {
   "cell_type": "code",
   "execution_count": null,
   "id": "arranged-recruitment",
   "metadata": {
    "scrolled": true
   },
   "outputs": [],
   "source": [
    "#directory where the initial input is saved\n",
    "file_name = \n",
    "#k point path, for example [[0.0, 0.0,  0.0,],[0.375, 0.375, 0.0],[0.5, 0.0, 0.0],[0.0, 0.0,  0.0]]\n",
    "k_path_s = \n",
    "#k point labels, for example ['G','K','X','G']\n",
    "k_labels = \n",
    "#energy range for the plots\n",
    "energy_range = \n",
    "title = \n",
    "\n",
    "plot_spbs(file_name,k_path_s,k_labels,energy_range,run,title)"
   ]
  },
  {
   "cell_type": "markdown",
   "id": "super-update",
   "metadata": {},
   "source": [
    "<a id='details'></a>\n",
    "The function <b>plot_bands</b> takes the following variables:\n",
    "- file_name : name of the bulk input\n",
    "- k_path_s : k point coordinates including the surface high symmetry points\n",
    "- k_labels : label of the k points in the path\n",
    "- energy_range : energy range for the bands plot\n",
    "- run : True if the calculation is to be run, False to prepare the inputs\n",
    "- title : title of the plot\n",
    "- n_bands=10 : number of bands. This is how many points where the direction $\\perp$ to the surfaca is sampled. Ten bands should provide enough points for the filling between bands. However, more can be included for a denser plot.\n",
    "- newk=0 : Value for the NEWK keyword. The option 0 uses the same number of k points used in the scf.\n",
    "- n_k_points=200 : n of the points sampled along the path\n",
    "- first_band=1 : first band to be included in the plot\n",
    "- last_band=26 : last band to be included in the plot\n",
    "- not_scaled=False : scale wrt to the Fermi energy"
   ]
  }
 ],
 "metadata": {
  "kernelspec": {
   "display_name": "Python 3",
   "language": "python",
   "name": "python3"
  },
  "language_info": {
   "codemirror_mode": {
    "name": "ipython",
    "version": 3
   },
   "file_extension": ".py",
   "mimetype": "text/x-python",
   "name": "python",
   "nbconvert_exporter": "python",
   "pygments_lexer": "ipython3",
   "version": "3.9.2"
  }
 },
 "nbformat": 4,
 "nbformat_minor": 5
}
