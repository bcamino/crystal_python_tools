{
 "cells": [
  {
   "cell_type": "markdown",
   "id": "negative-posting",
   "metadata": {},
   "source": [
    "# Workflow to test the parameter convergence"
   ]
  },
  {
   "cell_type": "markdown",
   "id": "brutal-agency",
   "metadata": {},
   "source": [
    "In this workflow the convergence of the following parameters is tested:\n",
    "- **k** point sampling (shrinking factor)\n",
    "- grid size\n",
    "- tolinteg\n",
    "\n",
    "The effect on the total energy and band gap (for non metals):\n",
    "- functional\n",
    "- basis set\n",
    "\n",
    "Please insert the parameters and variables in the cells below. Each function displays a data frame (and graph). In addition, a numpy array is return (but not displayed). This array can be called for further data analysis by typing its name (such as \"k_energy_arr\" in a new cell. \n",
    "\n",
    "For help with this notebook please refer to the [example notebook](../examples/workflows/Convergence_tests.ipynb)."
   ]
  },
  {
   "cell_type": "code",
   "execution_count": 1,
   "id": "moved-manual",
   "metadata": {},
   "outputs": [
    {
     "ename": "ModuleNotFoundError",
     "evalue": "No module named 'nbimporter'",
     "output_type": "error",
     "traceback": [
      "\u001b[0;31m---------------------------------------------------------------------------\u001b[0m",
      "\u001b[0;31mModuleNotFoundError\u001b[0m                       Traceback (most recent call last)",
      "\u001b[0;32m/var/folders/f2/8kc7y9697m59bwltxjd42y300000gn/T/ipykernel_6783/3184276610.py\u001b[0m in \u001b[0;36m<module>\u001b[0;34m\u001b[0m\n\u001b[1;32m      3\u001b[0m \u001b[0msys\u001b[0m\u001b[0;34m.\u001b[0m\u001b[0mpath\u001b[0m\u001b[0;34m.\u001b[0m\u001b[0minsert\u001b[0m\u001b[0;34m(\u001b[0m\u001b[0;36m1\u001b[0m\u001b[0;34m,\u001b[0m \u001b[0;34m'../functions/'\u001b[0m\u001b[0;34m)\u001b[0m\u001b[0;34m\u001b[0m\u001b[0;34m\u001b[0m\u001b[0m\n\u001b[1;32m      4\u001b[0m \u001b[0msys\u001b[0m\u001b[0;34m.\u001b[0m\u001b[0mpath\u001b[0m\u001b[0;34m.\u001b[0m\u001b[0minsert\u001b[0m\u001b[0;34m(\u001b[0m\u001b[0;36m1\u001b[0m\u001b[0;34m,\u001b[0m \u001b[0;34m'../'\u001b[0m\u001b[0;34m)\u001b[0m\u001b[0;34m\u001b[0m\u001b[0;34m\u001b[0m\u001b[0m\n\u001b[0;32m----> 5\u001b[0;31m \u001b[0;32mimport\u001b[0m \u001b[0mnbimporter\u001b[0m\u001b[0;34m\u001b[0m\u001b[0;34m\u001b[0m\u001b[0m\n\u001b[0m\u001b[1;32m      6\u001b[0m \u001b[0;32mfrom\u001b[0m \u001b[0mos\u001b[0m\u001b[0;34m.\u001b[0m\u001b[0mpath\u001b[0m \u001b[0;32mimport\u001b[0m \u001b[0mjoin\u001b[0m\u001b[0;34m\u001b[0m\u001b[0;34m\u001b[0m\u001b[0m\n\u001b[1;32m      7\u001b[0m \u001b[0;34m\u001b[0m\u001b[0m\n",
      "\u001b[0;31mModuleNotFoundError\u001b[0m: No module named 'nbimporter'"
     ]
    }
   ],
   "source": [
    "#Import system \n",
    "import sys\n",
    "sys.path.insert(1, '../functions/')\n",
    "sys.path.insert(1, '../')\n",
    "import nbimporter\n",
    "from os.path import join\n",
    "\n",
    "#Import from functions\n",
    "from crystal_io import read_input\n",
    "\n",
    "#Import other notebooks\n",
    "from building_blocks import k_point_convergence\n",
    "from building_blocks import grid_size_convergence\n",
    "from building_blocks import tolinteg_convergence\n",
    "from building_blocks import functional_choice\n",
    "from building_blocks import basis_set\n",
    "\n",
    "#Import other modules\n",
    "import re\n",
    "import numpy as np\n",
    "import pandas as pd\n",
    "import time"
   ]
  },
  {
   "cell_type": "markdown",
   "id": "substantial-arbitration",
   "metadata": {},
   "source": [
    "### Setting the variables"
   ]
  },
  {
   "cell_type": "code",
   "execution_count": null,
   "id": "contrary-things",
   "metadata": {},
   "outputs": [],
   "source": [
    "#INPUT/OUTPUT VARIABLES\n",
    "# directory where the original input is saved\n",
    "directory =  \n",
    "# name of the original input\n",
    "input_name = \n",
    "file_path = join(directory,input_name)\n",
    "\n",
    "#K POINT SAMPLING\n",
    "# first k point grid size to be sampled\n",
    "initial =  \n",
    "# last k point grid size to be sampled\n",
    "final =  \n",
    "# sampling step\n",
    "step =  \n",
    "sample = [i for i in range(initial,final,step)]\n",
    "\n",
    "#TOLINTEG\n",
    "# first tolinteg value to be sampled\n",
    "initial = \n",
    "# last tolinteg value to be sampled\n",
    "final = \n",
    "# sampling step\n",
    "step = \n",
    "sample_tol = [i for i in range(initial,final,step)]\n",
    "\n",
    "#FUNCTIONAL CHOICE\n",
    "#the functionals are specified as a list. If both correlation and exchange functionals are specified, \n",
    "#then this is given as a list of lists. For example [['PBE','PBE'],'B3LYP','PBE0']\n",
    "functionals = \n",
    "\n",
    "#BASIS SET\n",
    "#the basis sets are specified as a list. If the input contains more than one elements, then this is a list of lists.\n",
    "#In this case, the first list contains all the basis sets for the first element and so on.\n",
    "#All the lists must be of the same lenght. For example [['Mg_8-511G_harrison_1994','O_8-411_muscat_1999'],['Mg_8-511d1G_valenzano_2006','O_8-411d11G_valenzano_2006']]\n",
    "basis_sets = \n",
    "\n",
    "#SPIN (is the structure spin polarised?)\n",
    "spin_pol = False\n",
    "\n",
    "# RUN \n",
    "# (set to False if you only wish to generate the inputs and not run the calculation)\n",
    "run = True\n",
    "\n",
    "#Delete the wave function files after running the calculation\n",
    "clean = True"
   ]
  },
  {
   "cell_type": "markdown",
   "id": "hourly-scotland",
   "metadata": {},
   "source": [
    "### k point sampling"
   ]
  },
  {
   "cell_type": "code",
   "execution_count": null,
   "id": "sealed-arrival",
   "metadata": {
    "scrolled": false
   },
   "outputs": [],
   "source": [
    "geom_block,optgeom_block,bs_block,func_block,scf_block = read_input(file_path)\n",
    "if run != False:\n",
    "    k_energy_df, k_energy_arr = k_point_convergence.kpc(directory,input_name,sample,geom_block,bs_block,func_block,scf_block,run,clean)\n",
    "    display(k_energy_df)\n",
    "else:\n",
    "    display(k_point_convergence.kpc(directory,input_name,sample,geom_block,bs_block,func_block,scf_block,run,clean))"
   ]
  },
  {
   "cell_type": "markdown",
   "id": "comparable-example",
   "metadata": {},
   "source": [
    "### grid size"
   ]
  },
  {
   "cell_type": "code",
   "execution_count": null,
   "id": "forward-syntax",
   "metadata": {},
   "outputs": [],
   "source": [
    "geom_block,optgeom_block,bs_block,func_block,scf_block = read_input(file_path)\n",
    "if run != False:\n",
    "    g_energy_df, g_energy_arr = grid_size_convergence.gsc(directory,input_name,geom_block,bs_block,func_block,scf_block,run,clean)\n",
    "    display(g_energy_df)\n",
    "else:\n",
    "    display(grid_size_convergence.gsc(directory,input_name,geom_block,bs_block,func_block,scf_block,run,clean))"
   ]
  },
  {
   "cell_type": "markdown",
   "id": "convenient-sodium",
   "metadata": {},
   "source": [
    "### tolinteg"
   ]
  },
  {
   "cell_type": "code",
   "execution_count": null,
   "id": "young-clothing",
   "metadata": {},
   "outputs": [],
   "source": [
    "geom_block,optgeom_block,bs_block,func_block,scf_block = read_input(file_path)\n",
    "if run != False:\n",
    "    t_energy_df, t_energy_arr = tolinteg_convergence.tc(directory,input_name,geom_block,bs_block,func_block,scf_block,sample_tol,run,clean)\n",
    "    display(t_energy_df)\n",
    "else:\n",
    "    display(tolinteg_convergence.tc(directory,input_name,geom_block,bs_block,func_block,scf_block,sample_tol,run,clean))"
   ]
  },
  {
   "cell_type": "markdown",
   "id": "opponent-southeast",
   "metadata": {},
   "source": [
    "### functional"
   ]
  },
  {
   "cell_type": "code",
   "execution_count": null,
   "id": "shared-venue",
   "metadata": {},
   "outputs": [],
   "source": [
    "geom_block,optgeom_block,bs_block,func_block,scf_block = read_input(file_path)\n",
    "if run != False:\n",
    "    f_energy_df, f_energy_arr = functional_choice.fc(directory,input_name,geom_block,bs_block,func_block,scf_block,functionals,spin_pol,run,clean)\n",
    "    display(f_energy_df)\n",
    "else:\n",
    "    display(functional_choice.fc(directory,input_name,geom_block,bs_block,func_block,scf_block,functionals,spin_pol,run,clean))"
   ]
  },
  {
   "cell_type": "markdown",
   "id": "rental-joshua",
   "metadata": {},
   "source": [
    "### basis set"
   ]
  },
  {
   "cell_type": "code",
   "execution_count": null,
   "id": "suspended-passport",
   "metadata": {},
   "outputs": [],
   "source": [
    "geom_block,optgeom_block,bs_block,func_block,scf_block = read_input(file_path)\n",
    "if run != False:\n",
    "    b_energy_df, b_energy_arr = basis_set.bs(directory,input_name,geom_block,func_block,scf_block,basis_sets,spin_pol,run,clean)\n",
    "    display(b_energy_df)\n",
    "else:\n",
    "    display(basis_set.bs(directory,input_name,geom_block,func_block,scf_block,basis_sets,spin_pol,run,clean))"
   ]
  }
 ],
 "metadata": {
  "kernelspec": {
   "display_name": "Python 3 (ipykernel)",
   "language": "python",
   "name": "python3"
  },
  "language_info": {
   "codemirror_mode": {
    "name": "ipython",
    "version": 3
   },
   "file_extension": ".py",
   "mimetype": "text/x-python",
   "name": "python",
   "nbconvert_exporter": "python",
   "pygments_lexer": "ipython3",
   "version": "3.9.2"
  }
 },
 "nbformat": 4,
 "nbformat_minor": 5
}
